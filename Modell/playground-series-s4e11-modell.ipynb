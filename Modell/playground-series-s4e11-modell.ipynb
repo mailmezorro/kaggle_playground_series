{
 "cells": [
  {
   "cell_type": "code",
   "execution_count": 4,
   "metadata": {
    "_cell_guid": "b1076dfc-b9ad-4769-8c92-a6c4dae69d19",
    "_uuid": "8f2839f25d086af736a60e9eeb907d3b93b6e0e5",
    "trusted": true
   },
   "outputs": [
    {
     "name": "stdout",
     "output_type": "stream",
     "text": [
      "../kaggle/input/submission.csv\n",
      "../kaggle/input/depression-surveydataset-for-analysis/final_depression_dataset_1.csv\n",
      "../kaggle/input/playground-series-s4e11/sample_submission.csv\n",
      "../kaggle/input/playground-series-s4e11/test.csv\n",
      "../kaggle/input/playground-series-s4e11/train.csv\n",
      "../kaggle/input/s4-e11-train-concat-final/s4-e11-train-concat-final.csv\n",
      "../kaggle/input/s4-e11-train-concat-final/dataset-metadata.json\n",
      "../kaggle/input/s4-e11-train-concat/s4-e11-train-concat.csv\n"
     ]
    }
   ],
   "source": [
    "from IPython.display import display, Markdown\n",
    "from sklearn.ensemble import RandomForestClassifier\n",
    "from sklearn.ensemble import RandomForestRegressor\n",
    "from sklearn.experimental import enable_iterative_imputer\n",
    "from sklearn.impute import IterativeImputer, SimpleImputer, KNNImputer\n",
    "from sklearn.metrics import classification_report, confusion_matrix\n",
    "from sklearn.pipeline import Pipeline\n",
    "from sklearn.preprocessing import OrdinalEncoder\n",
    "from sklearn.preprocessing import StandardScaler , OneHotEncoder\n",
    "from sklearn.tree import DecisionTreeRegressor\n",
    "import math\n",
    "import matplotlib.pyplot as plt\n",
    "import numpy as np \n",
    "import seaborn as sns\n",
    "import pandas as pd \n",
    "import scipy.stats as ss\n",
    "import seaborn as sns\n",
    "import os\n",
    "# Input data files are available in the read-only \"../input/\" directory\n",
    "# For example, running this (by clicking run or pressing Shift+Enter) will list all files under the input directory\n",
    "\n",
    "# Decide between local or kaggle cloud storage         \n",
    "KAGGLE_ENV = 'kaggle' in os.listdir('/')\n",
    "data_path = '/kaggle/input' if KAGGLE_ENV else '../kaggle/input'\n",
    "\n",
    "# This is a good idea to work only locally. But If you wanna ran your NB also at kaggle... this is not working.\n",
    "# # Pull the dataset from kaggle, it is concat dataset train + original dataset\n",
    "# dataset_name = 'dantheshark/s4-e11-train-concat'\n",
    "# if KAGGLE_ENV:\n",
    "#     kaggle.api.dataset_download_files(dataset_name, path=\"../kaggle/input/\", unzip=True)\n",
    "\n",
    "\n",
    "for dirname, _, filenames in os.walk('/kaggle/input'):\n",
    "    for filename in filenames:\n",
    "        print(os.path.join(dirname, filename))\n",
    "    \n",
    "for dirname, _, filenames in os.walk(data_path):\n",
    "    for filename in filenames:\n",
    "        print(os.path.join(dirname, filename)) "
   ]
  },
  {
   "cell_type": "markdown",
   "metadata": {},
   "source": [
    "# Load Data"
   ]
  },
  {
   "cell_type": "code",
   "execution_count": null,
   "metadata": {},
   "outputs": [],
   "source": [
    "# Load the data\n",
    "train_original = pd.read_csv(data_path + '/playground-series-s4e11/train.csv')\n",
    "train_original = pd.read_csv(data_path + '/playground-series-s4e11/test.csv')\n",
    "sample_submission = pd.read_csv(data_path + '/playground-series-s4e11/sample_submission.csv')\n",
    "\n",
    "original_data = pd.read_csv(data_path + '/depression-surveydataset-for-analysis/final_depression_dataset_1.csv')\n",
    "\n",
    "train_concat_data = pd.read_csv(data_path + '/s4-e11-train-concat/s4-e11-train-concat.csv')\n",
    "#Focus on that dataset\n",
    "train_final_data = pd.read_csv(data_path + '/s4-e11-train-concat-final/s4-e11-train-concat-final.csv')"
   ]
  },
  {
   "cell_type": "code",
   "execution_count": null,
   "metadata": {},
   "outputs": [],
   "source": []
  }
 ],
 "metadata": {
  "kaggle": {
   "accelerator": "none",
   "dataSources": [
    {
     "databundleVersionId": 10008389,
     "sourceId": 84895,
     "sourceType": "competition"
    }
   ],
   "isGpuEnabled": false,
   "isInternetEnabled": true,
   "language": "python",
   "sourceType": "notebook"
  },
  "kernelspec": {
   "display_name": "base",
   "language": "python",
   "name": "python3"
  },
  "language_info": {
   "codemirror_mode": {
    "name": "ipython",
    "version": 3
   },
   "file_extension": ".py",
   "mimetype": "text/x-python",
   "name": "python",
   "nbconvert_exporter": "python",
   "pygments_lexer": "ipython3",
   "version": "3.11.5"
  }
 },
 "nbformat": 4,
 "nbformat_minor": 4
}
