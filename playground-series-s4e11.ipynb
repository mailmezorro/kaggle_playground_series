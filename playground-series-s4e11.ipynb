{
 "cells": [
  {
   "cell_type": "code",
   "execution_count": 45,
   "metadata": {
    "_cell_guid": "b1076dfc-b9ad-4769-8c92-a6c4dae69d19",
    "_uuid": "8f2839f25d086af736a60e9eeb907d3b93b6e0e5",
    "execution": {
     "iopub.execute_input": "2024-11-09T11:38:53.377368Z",
     "iopub.status.busy": "2024-11-09T11:38:53.376572Z",
     "iopub.status.idle": "2024-11-09T11:38:53.389842Z",
     "shell.execute_reply": "2024-11-09T11:38:53.388884Z",
     "shell.execute_reply.started": "2024-11-09T11:38:53.377325Z"
    },
    "trusted": true
   },
   "outputs": [
    {
     "name": "stdout",
     "output_type": "stream",
     "text": [
      "kaggle/working/submission.csv\n",
      "kaggle/working/submission_0_92979.csv\n",
      "kaggle/working/submission_0_93369.csv\n",
      "kaggle/working/submission_final.csv\n",
      "kaggle/working/submission_val_2.csv\n",
      "kaggle/working/submission_optuna.csv\n",
      "kaggle/working/submission_0_93337.csv\n",
      "kaggle/working/submission_val.csv\n",
      "kaggle/input/submission.csv\n",
      "kaggle/input/depression-surveydataset-for-analysis/final_depression_dataset_1.csv\n",
      "kaggle/input/playground-series-s4e11/sample_submission.csv\n",
      "kaggle/input/playground-series-s4e11/test.csv\n",
      "kaggle/input/playground-series-s4e11/train.csv\n"
     ]
    }
   ],
   "source": [
    "import numpy as np \n",
    "import pandas as pd \n",
    "import seaborn as sns\n",
    "from sklearn.ensemble import RandomForestClassifier\n",
    "from sklearn.model_selection import GridSearchCV\n",
    "import xgboost \n",
    "from sklearn.model_selection import train_test_split\n",
    "from sklearn.preprocessing import StandardScaler , OneHotEncoder\n",
    "from sklearn.pipeline import Pipeline\n",
    "from sklearn.metrics import classification_report, confusion_matrix\n",
    "import matplotlib.pyplot as plt\n",
    "from sklearn.metrics import accuracy_score, log_loss, roc_auc_score, make_scorer\n",
    "from sklearn.model_selection import cross_val_predict\n",
    "import xgboost as xgb\n",
    "from xgboost import XGBClassifier\n",
    "from sklearn.model_selection import cross_val_score\n",
    "import optuna\n",
    "import math\n",
    "import optuna.visualization as vis\n",
    "import kagglehub\n",
    "# Input data files are available in the read-only \"../input/\" directory\n",
    "# For example, running this (by clicking run or pressing Shift+Enter) will list all files under the input directory\n",
    "\n",
    "import os\n",
    "for dirname, _, filenames in os.walk('/kaggle/input'):\n",
    "    for filename in filenames:\n",
    "        print(os.path.join(dirname, filename))\n",
    "\n",
    "# Decide between local or kaggle cloud storage     \n",
    "'''\n",
    "if 'kaggle' in os.listdir('/'):\n",
    "    print('Kaggle environment')\n",
    "    data_path = '/kaggle'\n",
    "    KAGGLE_ENV = True\n",
    "else:\n",
    "    print('Local machine')\n",
    "    data_path = 'kaggle'\n",
    "    KAGGLE_ENV = False\n",
    "    ''' \n",
    "    \n",
    "KAGGLE_ENV = 'kaggle' in os.listdir('/')\n",
    "data_path = '/kaggle' if KAGGLE_ENV else 'kaggle'\n",
    "    \n",
    "    \n",
    "for dirname, _, filenames in os.walk(data_path):\n",
    "    for filename in filenames:\n",
    "        print(os.path.join(dirname, filename)) "
   ]
  },
  {
   "cell_type": "code",
   "execution_count": 46,
   "metadata": {
    "execution": {
     "iopub.execute_input": "2024-11-09T11:38:53.392059Z",
     "iopub.status.busy": "2024-11-09T11:38:53.391672Z",
     "iopub.status.idle": "2024-11-09T11:38:53.924624Z",
     "shell.execute_reply": "2024-11-09T11:38:53.923372Z",
     "shell.execute_reply.started": "2024-11-09T11:38:53.391986Z"
    },
    "trusted": true
   },
   "outputs": [],
   "source": [
    "# load the data\n",
    "df_train = pd.read_csv(data_path + '/input/playground-series-s4e11/train.csv')\n",
    "df_test = pd.read_csv(data_path + '/input/playground-series-s4e11/test.csv')\n",
    "df_sample_submission = pd.read_csv(data_path + '/input/playground-series-s4e11/sample_submission.csv')\n",
    "\n",
    "df_original = pd.read_csv(data_path + '/input/depression-surveydataset-for-analysis/final_depression_dataset_1.csv')"
   ]
  },
  {
   "cell_type": "markdown",
   "metadata": {},
   "source": [
    "# Prepare Data"
   ]
  },
  {
   "cell_type": "code",
   "execution_count": 47,
   "metadata": {
    "execution": {
     "iopub.execute_input": "2024-11-09T11:38:54.320008Z",
     "iopub.status.busy": "2024-11-09T11:38:54.319673Z",
     "iopub.status.idle": "2024-11-09T11:38:54.536159Z",
     "shell.execute_reply": "2024-11-09T11:38:54.535164Z",
     "shell.execute_reply.started": "2024-11-09T11:38:54.319958Z"
    },
    "trusted": true
   },
   "outputs": [],
   "source": [
    "\n",
    "df_original['Depression'] = df_original['Depression'].replace({'No': 0, 'Yes': 1})\n",
    "df_original['Age'] = df_original['Age'].astype(float)\n",
    "df_original['Work/Study Hours'] = df_original['Work/Study Hours'].astype(float)\n",
    "df_original['Financial Stress'] = df_original['Financial Stress'].astype(float)\n",
    "\n",
    "for column in df_train.select_dtypes(include=['object']).columns:\n",
    "    df_train[column] = df_train[column].astype('category')\n",
    "    \n",
    "for column in df_test.select_dtypes(include=['object']).columns:\n",
    "    df_test[column] = df_test[column].astype('category')\n",
    "\n",
    "for column in df_original.select_dtypes(include=['object']).columns:\n",
    "    df_original[column] = df_original[column].astype('category')  \n",
    "\n",
    "X = df_train.drop('Depression', axis=1)\n",
    "y = df_train['Depression']\n"
   ]
  },
  {
   "cell_type": "markdown",
   "metadata": {},
   "source": [
    "# Model Section"
   ]
  },
  {
   "cell_type": "markdown",
   "metadata": {},
   "source": [
    "## Simple XGB with all features, no cleaning at all"
   ]
  },
  {
   "cell_type": "code",
   "execution_count": 48,
   "metadata": {
    "execution": {
     "iopub.execute_input": "2024-11-09T11:38:54.538827Z",
     "iopub.status.busy": "2024-11-09T11:38:54.538502Z",
     "iopub.status.idle": "2024-11-09T11:38:57.431921Z",
     "shell.execute_reply": "2024-11-09T11:38:57.430826Z",
     "shell.execute_reply.started": "2024-11-09T11:38:54.538792Z"
    },
    "trusted": true
   },
   "outputs": [
    {
     "name": "stdout",
     "output_type": "stream",
     "text": [
      "Accuracy Score: 0.8433\n",
      "Atcually accuarcy is 0.92979 at kaggle\n"
     ]
    }
   ],
   "source": [
    "model = xgb.XGBClassifier(enable_categorical=True, \n",
    "                        eval_metric='logloss',\n",
    "                        random_state=42)\n",
    "model.fit(X,y)\n",
    "\n",
    "y_pred = model.predict(df_test)\n",
    "\n",
    "accuracy = accuracy_score(df_sample_submission['Depression'], y_pred)\n",
    "\n",
    "\n",
    "print(f\"Accuracy Score: {accuracy:.4f}\")\n",
    "print (\"Atcually accuarcy is 0.92979 at kaggle\")\n",
    "\n",
    "\n",
    "if not KAGGLE_ENV:\n",
    "    output = pd.DataFrame({'id': df_test['id'], 'Depression': y_pred})\n",
    "    output.to_csv(data_path + '/working/submission_0_92979.csv', index=False)"
   ]
  },
  {
   "cell_type": "markdown",
   "metadata": {},
   "source": [
    "## XGB Second Version\n",
    "\n",
    "- drop id feature from train data\n",
    "- merge df_train and original dataset\n",
    "- split merged datset in train and val set"
   ]
  },
  {
   "cell_type": "code",
   "execution_count": 49,
   "metadata": {},
   "outputs": [],
   "source": [
    "df_train = df_train.drop('id', axis=1)\n",
    "df_mixed = pd.concat([df_train, df_original], ignore_index=True)\n",
    "\n",
    "X = df_mixed.drop('Depression', axis=1)\n",
    "y = df_mixed['Depression']"
   ]
  },
  {
   "cell_type": "code",
   "execution_count": 50,
   "metadata": {},
   "outputs": [
    {
     "name": "stdout",
     "output_type": "stream",
     "text": [
      "Accuracy on the validation set: 0.93337\n"
     ]
    }
   ],
   "source": [
    "for column in X.select_dtypes(include=['object']).columns:\n",
    "    X[column] = X[column].astype('category')\n",
    "\n",
    "X_train, X_valid, y_train, y_valid = train_test_split(X, y, test_size=0.2, random_state=42)\n",
    "\n",
    "model = xgb.XGBClassifier(enable_categorical=True, \n",
    "                        eval_metric='logloss',\n",
    "                        random_state=42)\n",
    "\n",
    "model.fit(X_train, y_train)\n",
    "y_pred = model.predict(X_valid)\n",
    "\n",
    "accuracy = accuracy_score(y_valid, y_pred)\n",
    "print(f\"Accuracy on the validation set: {accuracy:.5f}\")\n",
    "\n",
    "df_test_features = df_test.drop('id', axis=1)\n",
    "y_pred_test = model.predict(df_test_features)\n",
    "\n",
    "\n",
    "# 0_93337\n",
    "if not KAGGLE_ENV:\n",
    "    output = pd.DataFrame({'id': df_test['id'], 'Depression': y_pred_test})\n",
    "    output.to_csv(data_path + '/working/submission_0_93337.csv', index=False)"
   ]
  },
  {
   "cell_type": "markdown",
   "metadata": {},
   "source": [
    "## XGB + Hyperparameter Tuning with GridSearchCV\n",
    "- started with big set of parameters for GridSearchCV - took with big GPU something about 3hours to calc"
   ]
  },
  {
   "cell_type": "code",
   "execution_count": 51,
   "metadata": {},
   "outputs": [
    {
     "name": "stdout",
     "output_type": "stream",
     "text": [
      "Fitting 5 folds for each of 1 candidates, totalling 5 fits\n"
     ]
    },
    {
     "name": "stderr",
     "output_type": "stream",
     "text": [
      "4117.31s - pydevd: Sending message related to process being replaced timed-out after 5 seconds\n",
      "4117.51s - pydevd: Sending message related to process being replaced timed-out after 5 seconds\n",
      "0.00s - Debugger warning: It seems that frozen modules are being used, which may\n",
      "0.00s - make the debugger miss breakpoints. Please pass -Xfrozen_modules=off\n",
      "0.00s - to python to disable frozen modules.\n",
      "0.00s - Note: Debugging will proceed. Set PYDEVD_DISABLE_FILE_VALIDATION=1 to disable this validation.\n",
      "0.00s - Debugger warning: It seems that frozen modules are being used, which may\n",
      "0.00s - make the debugger miss breakpoints. Please pass -Xfrozen_modules=off\n",
      "0.00s - to python to disable frozen modules.\n",
      "0.00s - Note: Debugging will proceed. Set PYDEVD_DISABLE_FILE_VALIDATION=1 to disable this validation.\n",
      "4117.72s - pydevd: Sending message related to process being replaced timed-out after 5 seconds\n",
      "4117.92s - pydevd: Sending message related to process being replaced timed-out after 5 seconds\n",
      "0.00s - Debugger warning: It seems that frozen modules are being used, which may\n",
      "0.00s - make the debugger miss breakpoints. Please pass -Xfrozen_modules=off\n",
      "0.00s - to python to disable frozen modules.\n",
      "0.00s - Note: Debugging will proceed. Set PYDEVD_DISABLE_FILE_VALIDATION=1 to disable this validation.\n",
      "4118.13s - pydevd: Sending message related to process being replaced timed-out after 5 seconds\n",
      "0.00s - Debugger warning: It seems that frozen modules are being used, which may\n",
      "0.00s - make the debugger miss breakpoints. Please pass -Xfrozen_modules=off\n",
      "0.00s - to python to disable frozen modules.\n",
      "0.00s - Note: Debugging will proceed. Set PYDEVD_DISABLE_FILE_VALIDATION=1 to disable this validation.\n",
      "0.00s - Debugger warning: It seems that frozen modules are being used, which may\n",
      "0.00s - make the debugger miss breakpoints. Please pass -Xfrozen_modules=off\n",
      "0.00s - to python to disable frozen modules.\n",
      "0.00s - Note: Debugging will proceed. Set PYDEVD_DISABLE_FILE_VALIDATION=1 to disable this validation.\n",
      "4118.33s - pydevd: Sending message related to process being replaced timed-out after 5 seconds\n",
      "4118.54s - pydevd: Sending message related to process being replaced timed-out after 5 seconds\n",
      "0.00s - Debugger warning: It seems that frozen modules are being used, which may\n",
      "0.00s - make the debugger miss breakpoints. Please pass -Xfrozen_modules=off\n",
      "0.00s - to python to disable frozen modules.\n",
      "0.00s - Note: Debugging will proceed. Set PYDEVD_DISABLE_FILE_VALIDATION=1 to disable this validation.\n",
      "0.00s - Debugger warning: It seems that frozen modules are being used, which may\n",
      "0.00s - make the debugger miss breakpoints. Please pass -Xfrozen_modules=off\n",
      "0.00s - to python to disable frozen modules.\n",
      "0.00s - Note: Debugging will proceed. Set PYDEVD_DISABLE_FILE_VALIDATION=1 to disable this validation.\n",
      "4118.74s - pydevd: Sending message related to process being replaced timed-out after 5 seconds\n",
      "4118.95s - pydevd: Sending message related to process being replaced timed-out after 5 seconds\n",
      "0.00s - Debugger warning: It seems that frozen modules are being used, which may\n",
      "0.00s - make the debugger miss breakpoints. Please pass -Xfrozen_modules=off\n",
      "0.00s - to python to disable frozen modules.\n",
      "0.00s - Note: Debugging will proceed. Set PYDEVD_DISABLE_FILE_VALIDATION=1 to disable this validation.\n",
      "4119.15s - pydevd: Sending message related to process being replaced timed-out after 5 seconds\n",
      "0.00s - Debugger warning: It seems that frozen modules are being used, which may\n",
      "0.00s - make the debugger miss breakpoints. Please pass -Xfrozen_modules=off\n",
      "0.00s - to python to disable frozen modules.\n",
      "0.00s - Note: Debugging will proceed. Set PYDEVD_DISABLE_FILE_VALIDATION=1 to disable this validation.\n",
      "0.00s - Debugger warning: It seems that frozen modules are being used, which may\n",
      "0.00s - make the debugger miss breakpoints. Please pass -Xfrozen_modules=off\n",
      "0.00s - to python to disable frozen modules.\n",
      "0.00s - Note: Debugging will proceed. Set PYDEVD_DISABLE_FILE_VALIDATION=1 to disable this validation.\n",
      "4119.37s - pydevd: Sending message related to process being replaced timed-out after 5 seconds\n",
      "4119.57s - pydevd: Sending message related to process being replaced timed-out after 5 seconds\n",
      "0.00s - Debugger warning: It seems that frozen modules are being used, which may\n",
      "0.00s - make the debugger miss breakpoints. Please pass -Xfrozen_modules=off\n",
      "0.00s - to python to disable frozen modules.\n",
      "0.00s - Note: Debugging will proceed. Set PYDEVD_DISABLE_FILE_VALIDATION=1 to disable this validation.\n",
      "0.00s - Debugger warning: It seems that frozen modules are being used, which may\n",
      "0.00s - make the debugger miss breakpoints. Please pass -Xfrozen_modules=off\n",
      "0.00s - to python to disable frozen modules.\n",
      "0.00s - Note: Debugging will proceed. Set PYDEVD_DISABLE_FILE_VALIDATION=1 to disable this validation.\n",
      "4119.77s - pydevd: Sending message related to process being replaced timed-out after 5 seconds\n",
      "4119.98s - pydevd: Sending message related to process being replaced timed-out after 5 seconds\n",
      "0.00s - Debugger warning: It seems that frozen modules are being used, which may\n",
      "0.00s - make the debugger miss breakpoints. Please pass -Xfrozen_modules=off\n",
      "0.00s - to python to disable frozen modules.\n",
      "0.00s - Note: Debugging will proceed. Set PYDEVD_DISABLE_FILE_VALIDATION=1 to disable this validation.\n",
      "4120.18s - pydevd: Sending message related to process being replaced timed-out after 5 seconds\n",
      "0.00s - Debugger warning: It seems that frozen modules are being used, which may\n",
      "0.00s - make the debugger miss breakpoints. Please pass -Xfrozen_modules=off\n",
      "0.00s - to python to disable frozen modules.\n",
      "0.00s - Note: Debugging will proceed. Set PYDEVD_DISABLE_FILE_VALIDATION=1 to disable this validation.\n",
      "4120.38s - pydevd: Sending message related to process being replaced timed-out after 5 seconds\n",
      "0.00s - Debugger warning: It seems that frozen modules are being used, which may\n",
      "0.00s - make the debugger miss breakpoints. Please pass -Xfrozen_modules=off\n",
      "0.00s - to python to disable frozen modules.\n",
      "0.00s - Note: Debugging will proceed. Set PYDEVD_DISABLE_FILE_VALIDATION=1 to disable this validation.\n",
      "0.00s - Debugger warning: It seems that frozen modules are being used, which may\n",
      "0.00s - make the debugger miss breakpoints. Please pass -Xfrozen_modules=off\n",
      "0.00s - to python to disable frozen modules.\n",
      "0.00s - Note: Debugging will proceed. Set PYDEVD_DISABLE_FILE_VALIDATION=1 to disable this validation.\n",
      "4120.59s - pydevd: Sending message related to process being replaced timed-out after 5 seconds\n",
      "4120.79s - pydevd: Sending message related to process being replaced timed-out after 5 seconds\n",
      "0.00s - Debugger warning: It seems that frozen modules are being used, which may\n",
      "0.00s - make the debugger miss breakpoints. Please pass -Xfrozen_modules=off\n",
      "0.00s - to python to disable frozen modules.\n",
      "0.00s - Note: Debugging will proceed. Set PYDEVD_DISABLE_FILE_VALIDATION=1 to disable this validation.\n",
      "4121.05s - pydevd: Sending message related to process being replaced timed-out after 5 seconds\n",
      "0.00s - Debugger warning: It seems that frozen modules are being used, which may\n",
      "0.00s - make the debugger miss breakpoints. Please pass -Xfrozen_modules=off\n",
      "0.00s - to python to disable frozen modules.\n",
      "0.00s - Note: Debugging will proceed. Set PYDEVD_DISABLE_FILE_VALIDATION=1 to disable this validation.\n",
      "4121.26s - pydevd: Sending message related to process being replaced timed-out after 5 seconds\n",
      "0.00s - Debugger warning: It seems that frozen modules are being used, which may\n",
      "0.00s - make the debugger miss breakpoints. Please pass -Xfrozen_modules=off\n",
      "0.00s - to python to disable frozen modules.\n",
      "0.00s - Note: Debugging will proceed. Set PYDEVD_DISABLE_FILE_VALIDATION=1 to disable this validation.\n",
      "4121.47s - pydevd: Sending message related to process being replaced timed-out after 5 seconds\n",
      "0.00s - Debugger warning: It seems that frozen modules are being used, which may\n",
      "0.00s - make the debugger miss breakpoints. Please pass -Xfrozen_modules=off\n",
      "0.00s - to python to disable frozen modules.\n",
      "0.00s - Note: Debugging will proceed. Set PYDEVD_DISABLE_FILE_VALIDATION=1 to disable this validation.\n",
      "4121.66s - pydevd: Sending message related to process being replaced timed-out after 5 seconds\n",
      "0.00s - Debugger warning: It seems that frozen modules are being used, which may\n",
      "0.00s - make the debugger miss breakpoints. Please pass -Xfrozen_modules=off\n",
      "0.00s - to python to disable frozen modules.\n",
      "0.00s - Note: Debugging will proceed. Set PYDEVD_DISABLE_FILE_VALIDATION=1 to disable this validation.\n",
      "0.00s - Debugger warning: It seems that frozen modules are being used, which may\n",
      "0.00s - make the debugger miss breakpoints. Please pass -Xfrozen_modules=off\n",
      "0.00s - to python to disable frozen modules.\n",
      "0.00s - Note: Debugging will proceed. Set PYDEVD_DISABLE_FILE_VALIDATION=1 to disable this validation.\n",
      "4121.86s - pydevd: Sending message related to process being replaced timed-out after 5 seconds\n",
      "4122.06s - pydevd: Sending message related to process being replaced timed-out after 5 seconds\n",
      "0.00s - Debugger warning: It seems that frozen modules are being used, which may\n",
      "0.00s - make the debugger miss breakpoints. Please pass -Xfrozen_modules=off\n",
      "0.00s - to python to disable frozen modules.\n",
      "0.00s - Note: Debugging will proceed. Set PYDEVD_DISABLE_FILE_VALIDATION=1 to disable this validation.\n",
      "0.00s - Debugger warning: It seems that frozen modules are being used, which may\n",
      "0.00s - make the debugger miss breakpoints. Please pass -Xfrozen_modules=off\n",
      "0.00s - to python to disable frozen modules.\n",
      "0.00s - Note: Debugging will proceed. Set PYDEVD_DISABLE_FILE_VALIDATION=1 to disable this validation.\n"
     ]
    },
    {
     "name": "stdout",
     "output_type": "stream",
     "text": [
      "Best Parameters: {'colsample_bytree': 0.8, 'gamma': 0, 'learning_rate': 0.1, 'n_estimators': 300, 'subsample': 0.8, 'tree_method': 'hist'}\n",
      "Best Accuracy (CV): 0.9364856256024087\n",
      "Accuracy on the validation set with optimized parameters: 0.93669\n"
     ]
    }
   ],
   "source": [
    "\n",
    "param_grid = {\n",
    "    #, 5, 7, 10],  # Controls the depth of the trees\n",
    "        'learning_rate': [0.1],#0.01, 0.05, 0.1, 0.2],  # Step size for updates\n",
    "        'n_estimators': [300],#100, 200, 300],  # Number of trees\n",
    "        'subsample': [0.8],#, 1.0],  # Fraction of data per tree\n",
    "        'colsample_bytree': [0.8],#, 1.0],  # Fraction of features per tree\n",
    "        'gamma': [0],#, 0.1, 0.2],  # Minimum loss reduction to make a split\n",
    "        'tree_method': ['hist']  # GPU-friendly method\n",
    "}\n",
    "grid_search = GridSearchCV(\n",
    "    estimator=XGBClassifier(enable_categorical=True, random_state=42, eval_metric='logloss'),\n",
    "    param_grid=param_grid,\n",
    "    scoring='accuracy',\n",
    "    cv=5,\n",
    "    verbose=1,\n",
    "    n_jobs=-1  # all CPU cores\n",
    ")\n",
    "grid_search.fit(X_train, y_train)\n",
    "\n",
    "print(\"Best Parameters:\", grid_search.best_params_)\n",
    "print(\"Best Accuracy (CV):\", grid_search.best_score_)\n",
    "best_model = grid_search.best_estimator_\n",
    "y_pred = best_model.predict(X_valid)\n",
    "accuracy = accuracy_score(y_valid, y_pred)\n",
    "print(f\"Accuracy on the validation set with optimized parameters: {accuracy:.5f}\")\n",
    "\n",
    "df_test_features = df_test.drop('id', axis=1)\n",
    "y_pred_test = best_model.predict(df_test_features)\n",
    "\n",
    "if not KAGGLE_ENV:\n",
    "    output = pd.DataFrame({'id': df_test['id'], 'Depression': y_pred_test})\n",
    "    output.to_csv('kaggle/working/submission_val_2.csv', index=False)"
   ]
  },
  {
   "cell_type": "markdown",
   "metadata": {},
   "source": [
    "## Cross-Validation"
   ]
  },
  {
   "cell_type": "code",
   "execution_count": 52,
   "metadata": {},
   "outputs": [
    {
     "name": "stdout",
     "output_type": "stream",
     "text": [
      "Cross-validation results: [0.93742147 0.937524   0.9350808  0.93714006 0.93933894]\n",
      "Average accuracy: 0.93730\n"
     ]
    }
   ],
   "source": [
    "# Best parameters from GridSearchCV\n",
    "best_params = grid_search.best_params_\n",
    "\n",
    "# Model with best parameters\n",
    "model = xgb.XGBClassifier(\n",
    "    **best_params,\n",
    "    enable_categorical=True,\n",
    "    eval_metric='logloss',\n",
    "    random_state=42\n",
    ")\n",
    "\n",
    "# 5-fold cross-validation\n",
    "scores = cross_val_score(\n",
    "    model, X, y,  \n",
    "    cv=5,  \n",
    "    scoring=make_scorer(accuracy_score),\n",
    "    n_jobs=-1\n",
    ")\n",
    "\n",
    "print(f\"Cross-validation results: {scores}\")\n",
    "print(f\"Average accuracy: {scores.mean():.5f}\")"
   ]
  },
  {
   "cell_type": "markdown",
   "metadata": {},
   "source": [
    "## Hyperparameter tuning with Optuna\n"
   ]
  },
  {
   "cell_type": "code",
   "execution_count": 53,
   "metadata": {},
   "outputs": [
    {
     "name": "stderr",
     "output_type": "stream",
     "text": [
      "[I 2024-11-10 22:23:30,290] A new study created in memory with name: no-name-f021f83f-0c7a-4cdd-a00b-1274fd4f0325\n"
     ]
    },
    {
     "name": "stderr",
     "output_type": "stream",
     "text": [
      "[I 2024-11-10 22:23:42,038] Trial 0 finished with value: 0.0643934105821583 and parameters: {'max_depth': 7, 'learning_rate': 0.18533773825371938, 'n_estimators': 473, 'subsample': 0.8140482134457037, 'colsample_bytree': 0.820293706349073, 'gamma': 2.6480296365752642, 'min_child_weight': 4, 'reg_alpha': 0.6145657653666939, 'reg_lambda': 0.14080819285479573}. Best is trial 0 with value: 0.0643934105821583.\n",
      "[I 2024-11-10 22:23:52,413] Trial 1 finished with value: 0.06613848945972356 and parameters: {'max_depth': 10, 'learning_rate': 0.191032962211525, 'n_estimators': 386, 'subsample': 0.6253554524659439, 'colsample_bytree': 0.6625650641285773, 'gamma': 2.7022419912243483, 'min_child_weight': 2, 'reg_alpha': 0.922723054243628, 'reg_lambda': 0.030735679231652435}. Best is trial 0 with value: 0.0643934105821583.\n",
      "[I 2024-11-10 22:23:55,442] Trial 2 finished with value: 0.06215970961887474 and parameters: {'max_depth': 6, 'learning_rate': 0.23137965408037364, 'n_estimators': 402, 'subsample': 0.9555011135620295, 'colsample_bytree': 0.743931694017872, 'gamma': 3.446160027976971, 'min_child_weight': 6, 'reg_alpha': 0.9261795293419011, 'reg_lambda': 0.8995230983427659}. Best is trial 2 with value: 0.06215970961887474.\n",
      "[I 2024-11-10 22:23:58,905] Trial 3 finished with value: 0.06523104844338967 and parameters: {'max_depth': 10, 'learning_rate': 0.27085448387362093, 'n_estimators': 405, 'subsample': 0.8211632181449198, 'colsample_bytree': 0.8435011109848518, 'gamma': 3.2743110640115085, 'min_child_weight': 1, 'reg_alpha': 0.32461821698517257, 'reg_lambda': 0.6960636786278169}. Best is trial 2 with value: 0.06215970961887474.\n",
      "[I 2024-11-10 22:24:02,415] Trial 4 finished with value: 0.06533575317604357 and parameters: {'max_depth': 6, 'learning_rate': 0.2897908738215222, 'n_estimators': 337, 'subsample': 0.8437055762334278, 'colsample_bytree': 0.68838618560115, 'gamma': 3.3834552039382078, 'min_child_weight': 4, 'reg_alpha': 0.5756703089765615, 'reg_lambda': 0.3004256573168277}. Best is trial 2 with value: 0.06215970961887474.\n",
      "[I 2024-11-10 22:24:04,755] Trial 5 finished with value: 0.06226441435152874 and parameters: {'max_depth': 6, 'learning_rate': 0.25689001093412384, 'n_estimators': 141, 'subsample': 0.8933782215059637, 'colsample_bytree': 0.6681766614134527, 'gamma': 4.366793232840439, 'min_child_weight': 5, 'reg_alpha': 0.5820092549752126, 'reg_lambda': 0.0437797526964574}. Best is trial 2 with value: 0.06215970961887474.\n",
      "[I 2024-11-10 22:24:08,750] Trial 6 finished with value: 0.06425380427195304 and parameters: {'max_depth': 4, 'learning_rate': 0.29024131212518717, 'n_estimators': 429, 'subsample': 0.8354620361130977, 'colsample_bytree': 0.708355202539114, 'gamma': 2.2093422967580967, 'min_child_weight': 5, 'reg_alpha': 0.6601164409354205, 'reg_lambda': 0.627387151033203}. Best is trial 2 with value: 0.06215970961887474.\n",
      "[I 2024-11-10 22:24:11,479] Trial 7 finished with value: 0.0651961468658383 and parameters: {'max_depth': 9, 'learning_rate': 0.2515746930330879, 'n_estimators': 195, 'subsample': 0.6879939535751609, 'colsample_bytree': 0.7542275011808995, 'gamma': 3.729472106893877, 'min_child_weight': 4, 'reg_alpha': 0.3548037545628371, 'reg_lambda': 0.3842495308085343}. Best is trial 2 with value: 0.06215970961887474.\n",
      "[I 2024-11-10 22:24:13,909] Trial 8 finished with value: 0.06303224905765736 and parameters: {'max_depth': 9, 'learning_rate': 0.14478525913845702, 'n_estimators': 115, 'subsample': 0.8717823288032036, 'colsample_bytree': 0.9606906884561943, 'gamma': 1.4850256997738653, 'min_child_weight': 7, 'reg_alpha': 0.768173432984436, 'reg_lambda': 0.3934344634160275}. Best is trial 2 with value: 0.06215970961887474.\n",
      "[I 2024-11-10 22:24:20,927] Trial 9 finished with value: 0.06226441435152874 and parameters: {'max_depth': 7, 'learning_rate': 0.11140662864093974, 'n_estimators': 345, 'subsample': 0.6531088193372564, 'colsample_bytree': 0.772562633713447, 'gamma': 0.167732460166502, 'min_child_weight': 9, 'reg_alpha': 0.1196116811318313, 'reg_lambda': 0.8950353377561396}. Best is trial 2 with value: 0.06215970961887474.\n",
      "[I 2024-11-10 22:24:24,436] Trial 10 finished with value: 0.06407929638419652 and parameters: {'max_depth': 3, 'learning_rate': 0.02324445105071926, 'n_estimators': 257, 'subsample': 0.9939972308347649, 'colsample_bytree': 0.9212664115722738, 'gamma': 4.900584793823195, 'min_child_weight': 10, 'reg_alpha': 0.9559608796786279, 'reg_lambda': 0.9995850390345435}. Best is trial 2 with value: 0.06215970961887474.\n",
      "[I 2024-11-10 22:24:25,734] Trial 11 finished with value: 0.061391874912746 and parameters: {'max_depth': 5, 'learning_rate': 0.22406218327151065, 'n_estimators': 106, 'subsample': 0.9514170867956318, 'colsample_bytree': 0.60709050654077, 'gamma': 4.759952999121764, 'min_child_weight': 7, 'reg_alpha': 0.8237512156589947, 'reg_lambda': 0.5942869298507154}. Best is trial 11 with value: 0.061391874912746.\n",
      "[I 2024-11-10 22:24:27,757] Trial 12 finished with value: 0.061077760714784324 and parameters: {'max_depth': 5, 'learning_rate': 0.22016058431967273, 'n_estimators': 260, 'subsample': 0.9858770072274081, 'colsample_bytree': 0.6052629909306019, 'gamma': 4.895833114030708, 'min_child_weight': 7, 'reg_alpha': 0.8432509163012774, 'reg_lambda': 0.7382849967779002}. Best is trial 12 with value: 0.061077760714784324.\n",
      "[I 2024-11-10 22:24:29,666] Trial 13 finished with value: 0.06125226860254085 and parameters: {'max_depth': 4, 'learning_rate': 0.2014221616856174, 'n_estimators': 210, 'subsample': 0.930852513236709, 'colsample_bytree': 0.6011215504038835, 'gamma': 4.993964524570678, 'min_child_weight': 8, 'reg_alpha': 0.7814018384703834, 'reg_lambda': 0.6286222580592445}. Best is trial 12 with value: 0.061077760714784324.\n",
      "[I 2024-11-10 22:24:31,573] Trial 14 finished with value: 0.06041463074130948 and parameters: {'max_depth': 3, 'learning_rate': 0.1019243000823095, 'n_estimators': 250, 'subsample': 0.7471428437596126, 'colsample_bytree': 0.6012716184595827, 'gamma': 4.178759591868229, 'min_child_weight': 8, 'reg_alpha': 0.778447897534486, 'reg_lambda': 0.7782780902735829}. Best is trial 14 with value: 0.06041463074130948.\n",
      "[I 2024-11-10 22:24:34,412] Trial 15 finished with value: 0.061077760714784324 and parameters: {'max_depth': 3, 'learning_rate': 0.08263105577706063, 'n_estimators': 275, 'subsample': 0.7380261669282522, 'colsample_bytree': 0.6390988360943028, 'gamma': 4.0008770895446055, 'min_child_weight': 10, 'reg_alpha': 0.7290620631333731, 'reg_lambda': 0.7783953105461652}. Best is trial 14 with value: 0.06041463074130948.\n",
      "[I 2024-11-10 22:24:36,821] Trial 16 finished with value: 0.06072874493927127 and parameters: {'max_depth': 4, 'learning_rate': 0.07165325498902643, 'n_estimators': 217, 'subsample': 0.756857527225228, 'colsample_bytree': 0.888687135073968, 'gamma': 4.174846420041134, 'min_child_weight': 8, 'reg_alpha': 0.4237412725560423, 'reg_lambda': 0.7950025748108278}. Best is trial 14 with value: 0.06041463074130948.\n",
      "[I 2024-11-10 22:24:39,060] Trial 17 finished with value: 0.060763646516822534 and parameters: {'max_depth': 4, 'learning_rate': 0.049729356415968234, 'n_estimators': 208, 'subsample': 0.7525252517539158, 'colsample_bytree': 0.8764990291596514, 'gamma': 4.131275809110282, 'min_child_weight': 9, 'reg_alpha': 0.41415800136024306, 'reg_lambda': 0.8086401710980144}. Best is trial 14 with value: 0.06041463074130948.\n",
      "[I 2024-11-10 22:24:40,164] Trial 18 finished with value: 0.060763646516822534 and parameters: {'max_depth': 3, 'learning_rate': 0.09450552759065295, 'n_estimators': 172, 'subsample': 0.7703047976124826, 'colsample_bytree': 0.995948838985234, 'gamma': 1.7783875862772263, 'min_child_weight': 8, 'reg_alpha': 0.2223072144696463, 'reg_lambda': 0.4976454536648982}. Best is trial 14 with value: 0.06041463074130948.\n",
      "[I 2024-11-10 22:24:44,581] Trial 19 finished with value: 0.061775792265810425 and parameters: {'max_depth': 5, 'learning_rate': 0.13370261690987834, 'n_estimators': 325, 'subsample': 0.6961601086838339, 'colsample_bytree': 0.8817732713239343, 'gamma': 0.7325490515943298, 'min_child_weight': 8, 'reg_alpha': 0.4976047779663095, 'reg_lambda': 0.9873013042101191}. Best is trial 14 with value: 0.06041463074130948.\n",
      "[I 2024-11-10 22:24:46,570] Trial 20 finished with value: 0.06027502443110433 and parameters: {'max_depth': 4, 'learning_rate': 0.053542510896587, 'n_estimators': 235, 'subsample': 0.7177362495600801, 'colsample_bytree': 0.9132560294234562, 'gamma': 3.0155656646750244, 'min_child_weight': 6, 'reg_alpha': 0.03155242768631705, 'reg_lambda': 0.853733041432624}. Best is trial 20 with value: 0.06027502443110433.\n",
      "[I 2024-11-10 22:24:49,508] Trial 21 finished with value: 0.06065894178416864 and parameters: {'max_depth': 4, 'learning_rate': 0.058385092610602145, 'n_estimators': 235, 'subsample': 0.7310701215049964, 'colsample_bytree': 0.923736743833974, 'gamma': 3.007092774999999, 'min_child_weight': 6, 'reg_alpha': 0.04451310691248078, 'reg_lambda': 0.8632568132758175}. Best is trial 20 with value: 0.06027502443110433.\n",
      "[I 2024-11-10 22:24:51,325] Trial 22 finished with value: 0.06742984782912187 and parameters: {'max_depth': 3, 'learning_rate': 0.01126819990663172, 'n_estimators': 245, 'subsample': 0.7095853259800112, 'colsample_bytree': 0.9323233405909371, 'gamma': 2.855858057307306, 'min_child_weight': 6, 'reg_alpha': 0.011193808337508469, 'reg_lambda': 0.8824119229111905}. Best is trial 20 with value: 0.06027502443110433.\n",
      "[I 2024-11-10 22:24:54,342] Trial 23 finished with value: 0.06062404020661738 and parameters: {'max_depth': 4, 'learning_rate': 0.05509918493429215, 'n_estimators': 299, 'subsample': 0.6657389495343228, 'colsample_bytree': 0.9986237380779948, 'gamma': 2.147149899254054, 'min_child_weight': 6, 'reg_alpha': 0.060446214585723745, 'reg_lambda': 0.8586598139314792}. Best is trial 20 with value: 0.06027502443110433.\n",
      "[I 2024-11-10 22:25:00,540] Trial 24 finished with value: 0.0599958118106938 and parameters: {'max_depth': 5, 'learning_rate': 0.03581029464192825, 'n_estimators': 288, 'subsample': 0.641111460579186, 'colsample_bytree': 0.9987704531295523, 'gamma': 1.8673326306855216, 'min_child_weight': 3, 'reg_alpha': 0.16988689152074865, 'reg_lambda': 0.5408142005601334}. Best is trial 24 with value: 0.0599958118106938.\n",
      "[I 2024-11-10 22:25:08,316] Trial 25 finished with value: 0.06034482758620685 and parameters: {'max_depth': 5, 'learning_rate': 0.037139679690297786, 'n_estimators': 289, 'subsample': 0.6189838058298719, 'colsample_bytree': 0.9618877412476032, 'gamma': 1.2185843787322614, 'min_child_weight': 3, 'reg_alpha': 0.1913221525168599, 'reg_lambda': 0.5135778395201416}. Best is trial 24 with value: 0.0599958118106938.\n",
      "[I 2024-11-10 22:25:12,381] Trial 26 finished with value: 0.06041463074130948 and parameters: {'max_depth': 5, 'learning_rate': 0.03927047220228352, 'n_estimators': 300, 'subsample': 0.600952467682714, 'colsample_bytree': 0.96858958265886, 'gamma': 1.1779773253584858, 'min_child_weight': 3, 'reg_alpha': 0.18207447722335213, 'reg_lambda': 0.505842676641425}. Best is trial 24 with value: 0.0599958118106938.\n",
      "[I 2024-11-10 22:25:21,511] Trial 27 finished with value: 0.060170319698450325 and parameters: {'max_depth': 7, 'learning_rate': 0.026768383307069824, 'n_estimators': 364, 'subsample': 0.6412948357855635, 'colsample_bytree': 0.958930733829501, 'gamma': 0.9465064563567069, 'min_child_weight': 2, 'reg_alpha': 0.24448857177837482, 'reg_lambda': 0.3055292189861999}. Best is trial 24 with value: 0.0599958118106938.\n",
      "[I 2024-11-10 22:25:30,494] Trial 28 finished with value: 0.06505654055563315 and parameters: {'max_depth': 8, 'learning_rate': 0.12684011647693805, 'n_estimators': 366, 'subsample': 0.6565403393325714, 'colsample_bytree': 0.8454375875470151, 'gamma': 0.5163912834099713, 'min_child_weight': 1, 'reg_alpha': 0.2809610783660269, 'reg_lambda': 0.210796290296279}. Best is trial 24 with value: 0.0599958118106938.\n",
      "[I 2024-11-10 22:25:38,047] Trial 29 finished with value: 0.06404439480664526 and parameters: {'max_depth': 7, 'learning_rate': 0.16030341530329972, 'n_estimators': 496, 'subsample': 0.7921731996344845, 'colsample_bytree': 0.9396899755689038, 'gamma': 2.2571161236590043, 'min_child_weight': 2, 'reg_alpha': 0.11164336040376657, 'reg_lambda': 0.1719078348099389}. Best is trial 24 with value: 0.0599958118106938.\n",
      "[I 2024-11-10 22:25:47,805] Trial 30 finished with value: 0.06125226860254085 and parameters: {'max_depth': 8, 'learning_rate': 0.01177655090425794, 'n_estimators': 445, 'subsample': 0.6321248064211771, 'colsample_bytree': 0.9065091268191909, 'gamma': 1.7406885163905077, 'min_child_weight': 3, 'reg_alpha': 0.2559138428898129, 'reg_lambda': 0.2586417872397663}. Best is trial 24 with value: 0.0599958118106938.\n",
      "[I 2024-11-10 22:25:52,037] Trial 31 finished with value: 0.05996091023314254 and parameters: {'max_depth': 6, 'learning_rate': 0.03481022519760896, 'n_estimators': 287, 'subsample': 0.6199248986582387, 'colsample_bytree': 0.9646115128357537, 'gamma': 1.1748114496291104, 'min_child_weight': 3, 'reg_alpha': 0.16048663214285405, 'reg_lambda': 0.476652850573662}. Best is trial 31 with value: 0.05996091023314254.\n",
      "[I 2024-11-10 22:25:58,935] Trial 32 finished with value: 0.06278793801479832 and parameters: {'max_depth': 6, 'learning_rate': 0.07282620411413132, 'n_estimators': 320, 'subsample': 0.6759279603029889, 'colsample_bytree': 0.9650431341126625, 'gamma': 0.8809288858456621, 'min_child_weight': 2, 'reg_alpha': 0.129409644038042, 'reg_lambda': 0.3868241380932159}. Best is trial 31 with value: 0.05996091023314254.\n",
      "[I 2024-11-10 22:26:08,252] Trial 33 finished with value: 0.061112662292335584 and parameters: {'max_depth': 8, 'learning_rate': 0.030546809938330907, 'n_estimators': 362, 'subsample': 0.6011348777813709, 'colsample_bytree': 0.9842313389320675, 'gamma': 1.7652094641499847, 'min_child_weight': 3, 'reg_alpha': 0.1574088086237878, 'reg_lambda': 0.33031492271258733}. Best is trial 31 with value: 0.05996091023314254.\n",
      "[I 2024-11-10 22:26:14,054] Trial 34 finished with value: 0.06278793801479832 and parameters: {'max_depth': 6, 'learning_rate': 0.06082656833482977, 'n_estimators': 379, 'subsample': 0.6340242067063103, 'colsample_bytree': 0.9424926992338463, 'gamma': 1.2535128031137777, 'min_child_weight': 1, 'reg_alpha': 0.07167050378365586, 'reg_lambda': 0.4407861490830471}. Best is trial 31 with value: 0.05996091023314254.\n",
      "[I 2024-11-10 22:26:19,806] Trial 35 finished with value: 0.06034482758620685 and parameters: {'max_depth': 7, 'learning_rate': 0.02618800145743937, 'n_estimators': 274, 'subsample': 0.713187823962878, 'colsample_bytree': 0.8020287720156618, 'gamma': 2.6843144103571435, 'min_child_weight': 4, 'reg_alpha': 0.3183604494918988, 'reg_lambda': 0.11454379770502221}. Best is trial 31 with value: 0.05996091023314254.\n",
      "[I 2024-11-10 22:26:28,972] Trial 36 finished with value: 0.06202010330866958 and parameters: {'max_depth': 6, 'learning_rate': 0.08396506047199742, 'n_estimators': 409, 'subsample': 0.6446969438046365, 'colsample_bytree': 0.8564929031437329, 'gamma': 0.06508977777682468, 'min_child_weight': 5, 'reg_alpha': 0.005801683461892804, 'reg_lambda': 0.5524666318295111}. Best is trial 31 with value: 0.05996091023314254.\n",
      "[I 2024-11-10 22:26:35,114] Trial 37 finished with value: 0.06027502443110433 and parameters: {'max_depth': 5, 'learning_rate': 0.04329450325758008, 'n_estimators': 317, 'subsample': 0.6164550337372948, 'colsample_bytree': 0.9043769719632051, 'gamma': 0.4841797469297213, 'min_child_weight': 2, 'reg_alpha': 0.23354907283065515, 'reg_lambda': 0.3338491940196625}. Best is trial 31 with value: 0.05996091023314254.\n",
      "[I 2024-11-10 22:26:39,461] Trial 38 finished with value: 0.06264833170459305 and parameters: {'max_depth': 6, 'learning_rate': 0.16248606669426685, 'n_estimators': 167, 'subsample': 0.6820438748701126, 'colsample_bytree': 0.9795973771089437, 'gamma': 2.4636332557833347, 'min_child_weight': 2, 'reg_alpha': 0.10139993482296472, 'reg_lambda': 0.7067603556549038}. Best is trial 31 with value: 0.05996091023314254.\n",
      "[I 2024-11-10 22:26:44,441] Trial 39 finished with value: 0.060833449671925166 and parameters: {'max_depth': 7, 'learning_rate': 0.02068855816714893, 'n_estimators': 229, 'subsample': 0.7172579712331338, 'colsample_bytree': 0.9413847948171107, 'gamma': 3.1683755583835023, 'min_child_weight': 4, 'reg_alpha': 0.390848626953219, 'reg_lambda': 0.45411271721117835}. Best is trial 31 with value: 0.05996091023314254.\n",
      "[I 2024-11-10 22:26:53,790] Trial 40 finished with value: 0.06219461119642611 and parameters: {'max_depth': 8, 'learning_rate': 0.06883577134279256, 'n_estimators': 345, 'subsample': 0.7869692655712421, 'colsample_bytree': 0.9482540576113955, 'gamma': 2.0295366240048507, 'min_child_weight': 5, 'reg_alpha': 0.1767164999286419, 'reg_lambda': 0.6578944634514092}. Best is trial 31 with value: 0.05996091023314254.\n",
      "[I 2024-11-10 22:26:58,475] Trial 41 finished with value: 0.06149657964540001 and parameters: {'max_depth': 5, 'learning_rate': 0.043805064272851704, 'n_estimators': 318, 'subsample': 0.6148528477210093, 'colsample_bytree': 0.9022363100062258, 'gamma': 0.3224250577603791, 'min_child_weight': 1, 'reg_alpha': 0.2487852858734961, 'reg_lambda': 0.329169306797254}. Best is trial 31 with value: 0.05996091023314254.\n",
      "[I 2024-11-10 22:27:03,468] Trial 42 finished with value: 0.060519335473963376 and parameters: {'max_depth': 6, 'learning_rate': 0.042830364819443405, 'n_estimators': 274, 'subsample': 0.6420599612386286, 'colsample_bytree': 0.9154821158234858, 'gamma': 0.8939069429634326, 'min_child_weight': 2, 'reg_alpha': 0.4930583378321167, 'reg_lambda': 0.2752599430826488}. Best is trial 31 with value: 0.05996091023314254.\n",
      "[I 2024-11-10 22:27:07,458] Trial 43 finished with value: 0.06362557587602957 and parameters: {'max_depth': 5, 'learning_rate': 0.010638259375204878, 'n_estimators': 311, 'subsample': 0.6656818726368341, 'colsample_bytree': 0.8142792118083192, 'gamma': 0.5508269665295519, 'min_child_weight': 3, 'reg_alpha': 0.28858763918690233, 'reg_lambda': 0.43320678379917144}. Best is trial 31 with value: 0.05996091023314254.\n",
      "[I 2024-11-10 22:27:15,539] Trial 44 finished with value: 0.06093815440457906 and parameters: {'max_depth': 6, 'learning_rate': 0.030963247925874654, 'n_estimators': 343, 'subsample': 0.6234754023707877, 'colsample_bytree': 0.8638940155240327, 'gamma': 1.4832059304606067, 'min_child_weight': 2, 'reg_alpha': 0.2145073822597811, 'reg_lambda': 0.3383624937125229}. Best is trial 31 with value: 0.05996091023314254.\n",
      "[I 2024-11-10 22:27:25,790] Trial 45 finished with value: 0.06153148122295127 and parameters: {'max_depth': 5, 'learning_rate': 0.09096161093002743, 'n_estimators': 397, 'subsample': 0.6962182636872993, 'colsample_bytree': 0.9794627313842716, 'gamma': 1.0720603842391507, 'min_child_weight': 4, 'reg_alpha': 0.3451803881184509, 'reg_lambda': 0.226873871952465}. Best is trial 31 with value: 0.05996091023314254.\n",
      "[I 2024-11-10 22:27:33,248] Trial 46 finished with value: 0.06268323328214431 and parameters: {'max_depth': 7, 'learning_rate': 0.05427821822414934, 'n_estimators': 285, 'subsample': 0.6522437713982794, 'colsample_bytree': 0.8995692702846477, 'gamma': 1.5514980945981454, 'min_child_weight': 1, 'reg_alpha': 0.07141733998466314, 'reg_lambda': 0.563432296788678}. Best is trial 31 with value: 0.05996091023314254.\n",
      "[I 2024-11-10 22:27:34,995] Trial 47 finished with value: 0.06097305598213043 and parameters: {'max_depth': 4, 'learning_rate': 0.11321833053235554, 'n_estimators': 184, 'subsample': 0.610232928317705, 'colsample_bytree': 0.9553741715845447, 'gamma': 0.3513417957459951, 'min_child_weight': 3, 'reg_alpha': 0.14169752765556592, 'reg_lambda': 0.09877194153915614}. Best is trial 31 with value: 0.05996091023314254.\n",
      "[I 2024-11-10 22:27:40,564] Trial 48 finished with value: 0.062124808041323476 and parameters: {'max_depth': 9, 'learning_rate': 0.07565050739957416, 'n_estimators': 359, 'subsample': 0.8125170816772826, 'colsample_bytree': 0.8327026854718501, 'gamma': 3.640630777282987, 'min_child_weight': 5, 'reg_alpha': 0.299005628301855, 'reg_lambda': 0.011306348219444262}. Best is trial 31 with value: 0.05996091023314254.\n",
      "[I 2024-11-10 22:27:45,217] Trial 49 finished with value: 0.061077760714784324 and parameters: {'max_depth': 5, 'learning_rate': 0.06367227064212141, 'n_estimators': 426, 'subsample': 0.6697593744464181, 'colsample_bytree': 0.7173222071162335, 'gamma': 2.5241941619622215, 'min_child_weight': 2, 'reg_alpha': 0.22784940424448677, 'reg_lambda': 0.9461115044437325}. Best is trial 31 with value: 0.05996091023314254.\n"
     ]
    },
    {
     "name": "stdout",
     "output_type": "stream",
     "text": [
      "Best parameters: {'max_depth': 6, 'learning_rate': 0.03481022519760896, 'n_estimators': 287, 'subsample': 0.6199248986582387, 'colsample_bytree': 0.9646115128357537, 'gamma': 1.1748114496291104, 'min_child_weight': 3, 'reg_alpha': 0.16048663214285405, 'reg_lambda': 0.476652850573662}\n",
      "Best accuracy: 0.9400390897668575\n"
     ]
    },
    {
     "data": {
      "application/vnd.plotly.v1+json": {
       "config": {
        "plotlyServerURL": "https://plot.ly"
       },
       "data": [
        {
         "cliponaxis": false,
         "hovertemplate": [
          "gamma (FloatDistribution): 0.013091829383774444<extra></extra>",
          "colsample_bytree (FloatDistribution): 0.02218702311853991<extra></extra>",
          "reg_alpha (FloatDistribution): 0.0352613104398105<extra></extra>",
          "reg_lambda (FloatDistribution): 0.04745284718410157<extra></extra>",
          "min_child_weight (IntDistribution): 0.06542707158776655<extra></extra>",
          "n_estimators (IntDistribution): 0.08313387688395901<extra></extra>",
          "subsample (FloatDistribution): 0.14534470466846522<extra></extra>",
          "max_depth (IntDistribution): 0.16218767880385487<extra></extra>",
          "learning_rate (FloatDistribution): 0.42591365792972796<extra></extra>"
         ],
         "name": "Objective Value",
         "orientation": "h",
         "text": [
          "0.01",
          "0.02",
          "0.04",
          "0.05",
          "0.07",
          "0.08",
          "0.15",
          "0.16",
          "0.43"
         ],
         "textposition": "outside",
         "type": "bar",
         "x": [
          0.013091829383774444,
          0.02218702311853991,
          0.0352613104398105,
          0.04745284718410157,
          0.06542707158776655,
          0.08313387688395901,
          0.14534470466846522,
          0.16218767880385487,
          0.42591365792972796
         ],
         "y": [
          "gamma",
          "colsample_bytree",
          "reg_alpha",
          "reg_lambda",
          "min_child_weight",
          "n_estimators",
          "subsample",
          "max_depth",
          "learning_rate"
         ]
        }
       ],
       "layout": {
        "template": {
         "data": {
          "bar": [
           {
            "error_x": {
             "color": "#2a3f5f"
            },
            "error_y": {
             "color": "#2a3f5f"
            },
            "marker": {
             "line": {
              "color": "#E5ECF6",
              "width": 0.5
             },
             "pattern": {
              "fillmode": "overlay",
              "size": 10,
              "solidity": 0.2
             }
            },
            "type": "bar"
           }
          ],
          "barpolar": [
           {
            "marker": {
             "line": {
              "color": "#E5ECF6",
              "width": 0.5
             },
             "pattern": {
              "fillmode": "overlay",
              "size": 10,
              "solidity": 0.2
             }
            },
            "type": "barpolar"
           }
          ],
          "carpet": [
           {
            "aaxis": {
             "endlinecolor": "#2a3f5f",
             "gridcolor": "white",
             "linecolor": "white",
             "minorgridcolor": "white",
             "startlinecolor": "#2a3f5f"
            },
            "baxis": {
             "endlinecolor": "#2a3f5f",
             "gridcolor": "white",
             "linecolor": "white",
             "minorgridcolor": "white",
             "startlinecolor": "#2a3f5f"
            },
            "type": "carpet"
           }
          ],
          "choropleth": [
           {
            "colorbar": {
             "outlinewidth": 0,
             "ticks": ""
            },
            "type": "choropleth"
           }
          ],
          "contour": [
           {
            "colorbar": {
             "outlinewidth": 0,
             "ticks": ""
            },
            "colorscale": [
             [
              0,
              "#0d0887"
             ],
             [
              0.1111111111111111,
              "#46039f"
             ],
             [
              0.2222222222222222,
              "#7201a8"
             ],
             [
              0.3333333333333333,
              "#9c179e"
             ],
             [
              0.4444444444444444,
              "#bd3786"
             ],
             [
              0.5555555555555556,
              "#d8576b"
             ],
             [
              0.6666666666666666,
              "#ed7953"
             ],
             [
              0.7777777777777778,
              "#fb9f3a"
             ],
             [
              0.8888888888888888,
              "#fdca26"
             ],
             [
              1,
              "#f0f921"
             ]
            ],
            "type": "contour"
           }
          ],
          "contourcarpet": [
           {
            "colorbar": {
             "outlinewidth": 0,
             "ticks": ""
            },
            "type": "contourcarpet"
           }
          ],
          "heatmap": [
           {
            "colorbar": {
             "outlinewidth": 0,
             "ticks": ""
            },
            "colorscale": [
             [
              0,
              "#0d0887"
             ],
             [
              0.1111111111111111,
              "#46039f"
             ],
             [
              0.2222222222222222,
              "#7201a8"
             ],
             [
              0.3333333333333333,
              "#9c179e"
             ],
             [
              0.4444444444444444,
              "#bd3786"
             ],
             [
              0.5555555555555556,
              "#d8576b"
             ],
             [
              0.6666666666666666,
              "#ed7953"
             ],
             [
              0.7777777777777778,
              "#fb9f3a"
             ],
             [
              0.8888888888888888,
              "#fdca26"
             ],
             [
              1,
              "#f0f921"
             ]
            ],
            "type": "heatmap"
           }
          ],
          "heatmapgl": [
           {
            "colorbar": {
             "outlinewidth": 0,
             "ticks": ""
            },
            "colorscale": [
             [
              0,
              "#0d0887"
             ],
             [
              0.1111111111111111,
              "#46039f"
             ],
             [
              0.2222222222222222,
              "#7201a8"
             ],
             [
              0.3333333333333333,
              "#9c179e"
             ],
             [
              0.4444444444444444,
              "#bd3786"
             ],
             [
              0.5555555555555556,
              "#d8576b"
             ],
             [
              0.6666666666666666,
              "#ed7953"
             ],
             [
              0.7777777777777778,
              "#fb9f3a"
             ],
             [
              0.8888888888888888,
              "#fdca26"
             ],
             [
              1,
              "#f0f921"
             ]
            ],
            "type": "heatmapgl"
           }
          ],
          "histogram": [
           {
            "marker": {
             "pattern": {
              "fillmode": "overlay",
              "size": 10,
              "solidity": 0.2
             }
            },
            "type": "histogram"
           }
          ],
          "histogram2d": [
           {
            "colorbar": {
             "outlinewidth": 0,
             "ticks": ""
            },
            "colorscale": [
             [
              0,
              "#0d0887"
             ],
             [
              0.1111111111111111,
              "#46039f"
             ],
             [
              0.2222222222222222,
              "#7201a8"
             ],
             [
              0.3333333333333333,
              "#9c179e"
             ],
             [
              0.4444444444444444,
              "#bd3786"
             ],
             [
              0.5555555555555556,
              "#d8576b"
             ],
             [
              0.6666666666666666,
              "#ed7953"
             ],
             [
              0.7777777777777778,
              "#fb9f3a"
             ],
             [
              0.8888888888888888,
              "#fdca26"
             ],
             [
              1,
              "#f0f921"
             ]
            ],
            "type": "histogram2d"
           }
          ],
          "histogram2dcontour": [
           {
            "colorbar": {
             "outlinewidth": 0,
             "ticks": ""
            },
            "colorscale": [
             [
              0,
              "#0d0887"
             ],
             [
              0.1111111111111111,
              "#46039f"
             ],
             [
              0.2222222222222222,
              "#7201a8"
             ],
             [
              0.3333333333333333,
              "#9c179e"
             ],
             [
              0.4444444444444444,
              "#bd3786"
             ],
             [
              0.5555555555555556,
              "#d8576b"
             ],
             [
              0.6666666666666666,
              "#ed7953"
             ],
             [
              0.7777777777777778,
              "#fb9f3a"
             ],
             [
              0.8888888888888888,
              "#fdca26"
             ],
             [
              1,
              "#f0f921"
             ]
            ],
            "type": "histogram2dcontour"
           }
          ],
          "mesh3d": [
           {
            "colorbar": {
             "outlinewidth": 0,
             "ticks": ""
            },
            "type": "mesh3d"
           }
          ],
          "parcoords": [
           {
            "line": {
             "colorbar": {
              "outlinewidth": 0,
              "ticks": ""
             }
            },
            "type": "parcoords"
           }
          ],
          "pie": [
           {
            "automargin": true,
            "type": "pie"
           }
          ],
          "scatter": [
           {
            "fillpattern": {
             "fillmode": "overlay",
             "size": 10,
             "solidity": 0.2
            },
            "type": "scatter"
           }
          ],
          "scatter3d": [
           {
            "line": {
             "colorbar": {
              "outlinewidth": 0,
              "ticks": ""
             }
            },
            "marker": {
             "colorbar": {
              "outlinewidth": 0,
              "ticks": ""
             }
            },
            "type": "scatter3d"
           }
          ],
          "scattercarpet": [
           {
            "marker": {
             "colorbar": {
              "outlinewidth": 0,
              "ticks": ""
             }
            },
            "type": "scattercarpet"
           }
          ],
          "scattergeo": [
           {
            "marker": {
             "colorbar": {
              "outlinewidth": 0,
              "ticks": ""
             }
            },
            "type": "scattergeo"
           }
          ],
          "scattergl": [
           {
            "marker": {
             "colorbar": {
              "outlinewidth": 0,
              "ticks": ""
             }
            },
            "type": "scattergl"
           }
          ],
          "scattermapbox": [
           {
            "marker": {
             "colorbar": {
              "outlinewidth": 0,
              "ticks": ""
             }
            },
            "type": "scattermapbox"
           }
          ],
          "scatterpolar": [
           {
            "marker": {
             "colorbar": {
              "outlinewidth": 0,
              "ticks": ""
             }
            },
            "type": "scatterpolar"
           }
          ],
          "scatterpolargl": [
           {
            "marker": {
             "colorbar": {
              "outlinewidth": 0,
              "ticks": ""
             }
            },
            "type": "scatterpolargl"
           }
          ],
          "scatterternary": [
           {
            "marker": {
             "colorbar": {
              "outlinewidth": 0,
              "ticks": ""
             }
            },
            "type": "scatterternary"
           }
          ],
          "surface": [
           {
            "colorbar": {
             "outlinewidth": 0,
             "ticks": ""
            },
            "colorscale": [
             [
              0,
              "#0d0887"
             ],
             [
              0.1111111111111111,
              "#46039f"
             ],
             [
              0.2222222222222222,
              "#7201a8"
             ],
             [
              0.3333333333333333,
              "#9c179e"
             ],
             [
              0.4444444444444444,
              "#bd3786"
             ],
             [
              0.5555555555555556,
              "#d8576b"
             ],
             [
              0.6666666666666666,
              "#ed7953"
             ],
             [
              0.7777777777777778,
              "#fb9f3a"
             ],
             [
              0.8888888888888888,
              "#fdca26"
             ],
             [
              1,
              "#f0f921"
             ]
            ],
            "type": "surface"
           }
          ],
          "table": [
           {
            "cells": {
             "fill": {
              "color": "#EBF0F8"
             },
             "line": {
              "color": "white"
             }
            },
            "header": {
             "fill": {
              "color": "#C8D4E3"
             },
             "line": {
              "color": "white"
             }
            },
            "type": "table"
           }
          ]
         },
         "layout": {
          "annotationdefaults": {
           "arrowcolor": "#2a3f5f",
           "arrowhead": 0,
           "arrowwidth": 1
          },
          "autotypenumbers": "strict",
          "coloraxis": {
           "colorbar": {
            "outlinewidth": 0,
            "ticks": ""
           }
          },
          "colorscale": {
           "diverging": [
            [
             0,
             "#8e0152"
            ],
            [
             0.1,
             "#c51b7d"
            ],
            [
             0.2,
             "#de77ae"
            ],
            [
             0.3,
             "#f1b6da"
            ],
            [
             0.4,
             "#fde0ef"
            ],
            [
             0.5,
             "#f7f7f7"
            ],
            [
             0.6,
             "#e6f5d0"
            ],
            [
             0.7,
             "#b8e186"
            ],
            [
             0.8,
             "#7fbc41"
            ],
            [
             0.9,
             "#4d9221"
            ],
            [
             1,
             "#276419"
            ]
           ],
           "sequential": [
            [
             0,
             "#0d0887"
            ],
            [
             0.1111111111111111,
             "#46039f"
            ],
            [
             0.2222222222222222,
             "#7201a8"
            ],
            [
             0.3333333333333333,
             "#9c179e"
            ],
            [
             0.4444444444444444,
             "#bd3786"
            ],
            [
             0.5555555555555556,
             "#d8576b"
            ],
            [
             0.6666666666666666,
             "#ed7953"
            ],
            [
             0.7777777777777778,
             "#fb9f3a"
            ],
            [
             0.8888888888888888,
             "#fdca26"
            ],
            [
             1,
             "#f0f921"
            ]
           ],
           "sequentialminus": [
            [
             0,
             "#0d0887"
            ],
            [
             0.1111111111111111,
             "#46039f"
            ],
            [
             0.2222222222222222,
             "#7201a8"
            ],
            [
             0.3333333333333333,
             "#9c179e"
            ],
            [
             0.4444444444444444,
             "#bd3786"
            ],
            [
             0.5555555555555556,
             "#d8576b"
            ],
            [
             0.6666666666666666,
             "#ed7953"
            ],
            [
             0.7777777777777778,
             "#fb9f3a"
            ],
            [
             0.8888888888888888,
             "#fdca26"
            ],
            [
             1,
             "#f0f921"
            ]
           ]
          },
          "colorway": [
           "#636efa",
           "#EF553B",
           "#00cc96",
           "#ab63fa",
           "#FFA15A",
           "#19d3f3",
           "#FF6692",
           "#B6E880",
           "#FF97FF",
           "#FECB52"
          ],
          "font": {
           "color": "#2a3f5f"
          },
          "geo": {
           "bgcolor": "white",
           "lakecolor": "white",
           "landcolor": "#E5ECF6",
           "showlakes": true,
           "showland": true,
           "subunitcolor": "white"
          },
          "hoverlabel": {
           "align": "left"
          },
          "hovermode": "closest",
          "mapbox": {
           "style": "light"
          },
          "paper_bgcolor": "white",
          "plot_bgcolor": "#E5ECF6",
          "polar": {
           "angularaxis": {
            "gridcolor": "white",
            "linecolor": "white",
            "ticks": ""
           },
           "bgcolor": "#E5ECF6",
           "radialaxis": {
            "gridcolor": "white",
            "linecolor": "white",
            "ticks": ""
           }
          },
          "scene": {
           "xaxis": {
            "backgroundcolor": "#E5ECF6",
            "gridcolor": "white",
            "gridwidth": 2,
            "linecolor": "white",
            "showbackground": true,
            "ticks": "",
            "zerolinecolor": "white"
           },
           "yaxis": {
            "backgroundcolor": "#E5ECF6",
            "gridcolor": "white",
            "gridwidth": 2,
            "linecolor": "white",
            "showbackground": true,
            "ticks": "",
            "zerolinecolor": "white"
           },
           "zaxis": {
            "backgroundcolor": "#E5ECF6",
            "gridcolor": "white",
            "gridwidth": 2,
            "linecolor": "white",
            "showbackground": true,
            "ticks": "",
            "zerolinecolor": "white"
           }
          },
          "shapedefaults": {
           "line": {
            "color": "#2a3f5f"
           }
          },
          "ternary": {
           "aaxis": {
            "gridcolor": "white",
            "linecolor": "white",
            "ticks": ""
           },
           "baxis": {
            "gridcolor": "white",
            "linecolor": "white",
            "ticks": ""
           },
           "bgcolor": "#E5ECF6",
           "caxis": {
            "gridcolor": "white",
            "linecolor": "white",
            "ticks": ""
           }
          },
          "title": {
           "x": 0.05
          },
          "xaxis": {
           "automargin": true,
           "gridcolor": "white",
           "linecolor": "white",
           "ticks": "",
           "title": {
            "standoff": 15
           },
           "zerolinecolor": "white",
           "zerolinewidth": 2
          },
          "yaxis": {
           "automargin": true,
           "gridcolor": "white",
           "linecolor": "white",
           "ticks": "",
           "title": {
            "standoff": 15
           },
           "zerolinecolor": "white",
           "zerolinewidth": 2
          }
         }
        },
        "title": {
         "text": "Hyperparameter Importances"
        },
        "xaxis": {
         "title": {
          "text": "Hyperparameter Importance"
         }
        },
        "yaxis": {
         "title": {
          "text": "Hyperparameter"
         }
        }
       }
      },
      "text/html": [
       "<div>                            <div id=\"6a49f380-bcf5-47a6-86c1-d83a134c48cc\" class=\"plotly-graph-div\" style=\"height:525px; width:100%;\"></div>            <script type=\"text/javascript\">                require([\"plotly\"], function(Plotly) {                    window.PLOTLYENV=window.PLOTLYENV || {};                                    if (document.getElementById(\"6a49f380-bcf5-47a6-86c1-d83a134c48cc\")) {                    Plotly.newPlot(                        \"6a49f380-bcf5-47a6-86c1-d83a134c48cc\",                        [{\"cliponaxis\":false,\"hovertemplate\":[\"gamma (FloatDistribution): 0.013091829383774444<extra></extra>\",\"colsample_bytree (FloatDistribution): 0.02218702311853991<extra></extra>\",\"reg_alpha (FloatDistribution): 0.0352613104398105<extra></extra>\",\"reg_lambda (FloatDistribution): 0.04745284718410157<extra></extra>\",\"min_child_weight (IntDistribution): 0.06542707158776655<extra></extra>\",\"n_estimators (IntDistribution): 0.08313387688395901<extra></extra>\",\"subsample (FloatDistribution): 0.14534470466846522<extra></extra>\",\"max_depth (IntDistribution): 0.16218767880385487<extra></extra>\",\"learning_rate (FloatDistribution): 0.42591365792972796<extra></extra>\"],\"name\":\"Objective Value\",\"orientation\":\"h\",\"text\":[\"0.01\",\"0.02\",\"0.04\",\"0.05\",\"0.07\",\"0.08\",\"0.15\",\"0.16\",\"0.43\"],\"textposition\":\"outside\",\"x\":[0.013091829383774444,0.02218702311853991,0.0352613104398105,0.04745284718410157,0.06542707158776655,0.08313387688395901,0.14534470466846522,0.16218767880385487,0.42591365792972796],\"y\":[\"gamma\",\"colsample_bytree\",\"reg_alpha\",\"reg_lambda\",\"min_child_weight\",\"n_estimators\",\"subsample\",\"max_depth\",\"learning_rate\"],\"type\":\"bar\"}],                        {\"title\":{\"text\":\"Hyperparameter Importances\"},\"xaxis\":{\"title\":{\"text\":\"Hyperparameter Importance\"}},\"yaxis\":{\"title\":{\"text\":\"Hyperparameter\"}},\"template\":{\"data\":{\"histogram2dcontour\":[{\"type\":\"histogram2dcontour\",\"colorbar\":{\"outlinewidth\":0,\"ticks\":\"\"},\"colorscale\":[[0.0,\"#0d0887\"],[0.1111111111111111,\"#46039f\"],[0.2222222222222222,\"#7201a8\"],[0.3333333333333333,\"#9c179e\"],[0.4444444444444444,\"#bd3786\"],[0.5555555555555556,\"#d8576b\"],[0.6666666666666666,\"#ed7953\"],[0.7777777777777778,\"#fb9f3a\"],[0.8888888888888888,\"#fdca26\"],[1.0,\"#f0f921\"]]}],\"choropleth\":[{\"type\":\"choropleth\",\"colorbar\":{\"outlinewidth\":0,\"ticks\":\"\"}}],\"histogram2d\":[{\"type\":\"histogram2d\",\"colorbar\":{\"outlinewidth\":0,\"ticks\":\"\"},\"colorscale\":[[0.0,\"#0d0887\"],[0.1111111111111111,\"#46039f\"],[0.2222222222222222,\"#7201a8\"],[0.3333333333333333,\"#9c179e\"],[0.4444444444444444,\"#bd3786\"],[0.5555555555555556,\"#d8576b\"],[0.6666666666666666,\"#ed7953\"],[0.7777777777777778,\"#fb9f3a\"],[0.8888888888888888,\"#fdca26\"],[1.0,\"#f0f921\"]]}],\"heatmap\":[{\"type\":\"heatmap\",\"colorbar\":{\"outlinewidth\":0,\"ticks\":\"\"},\"colorscale\":[[0.0,\"#0d0887\"],[0.1111111111111111,\"#46039f\"],[0.2222222222222222,\"#7201a8\"],[0.3333333333333333,\"#9c179e\"],[0.4444444444444444,\"#bd3786\"],[0.5555555555555556,\"#d8576b\"],[0.6666666666666666,\"#ed7953\"],[0.7777777777777778,\"#fb9f3a\"],[0.8888888888888888,\"#fdca26\"],[1.0,\"#f0f921\"]]}],\"heatmapgl\":[{\"type\":\"heatmapgl\",\"colorbar\":{\"outlinewidth\":0,\"ticks\":\"\"},\"colorscale\":[[0.0,\"#0d0887\"],[0.1111111111111111,\"#46039f\"],[0.2222222222222222,\"#7201a8\"],[0.3333333333333333,\"#9c179e\"],[0.4444444444444444,\"#bd3786\"],[0.5555555555555556,\"#d8576b\"],[0.6666666666666666,\"#ed7953\"],[0.7777777777777778,\"#fb9f3a\"],[0.8888888888888888,\"#fdca26\"],[1.0,\"#f0f921\"]]}],\"contourcarpet\":[{\"type\":\"contourcarpet\",\"colorbar\":{\"outlinewidth\":0,\"ticks\":\"\"}}],\"contour\":[{\"type\":\"contour\",\"colorbar\":{\"outlinewidth\":0,\"ticks\":\"\"},\"colorscale\":[[0.0,\"#0d0887\"],[0.1111111111111111,\"#46039f\"],[0.2222222222222222,\"#7201a8\"],[0.3333333333333333,\"#9c179e\"],[0.4444444444444444,\"#bd3786\"],[0.5555555555555556,\"#d8576b\"],[0.6666666666666666,\"#ed7953\"],[0.7777777777777778,\"#fb9f3a\"],[0.8888888888888888,\"#fdca26\"],[1.0,\"#f0f921\"]]}],\"surface\":[{\"type\":\"surface\",\"colorbar\":{\"outlinewidth\":0,\"ticks\":\"\"},\"colorscale\":[[0.0,\"#0d0887\"],[0.1111111111111111,\"#46039f\"],[0.2222222222222222,\"#7201a8\"],[0.3333333333333333,\"#9c179e\"],[0.4444444444444444,\"#bd3786\"],[0.5555555555555556,\"#d8576b\"],[0.6666666666666666,\"#ed7953\"],[0.7777777777777778,\"#fb9f3a\"],[0.8888888888888888,\"#fdca26\"],[1.0,\"#f0f921\"]]}],\"mesh3d\":[{\"type\":\"mesh3d\",\"colorbar\":{\"outlinewidth\":0,\"ticks\":\"\"}}],\"scatter\":[{\"fillpattern\":{\"fillmode\":\"overlay\",\"size\":10,\"solidity\":0.2},\"type\":\"scatter\"}],\"parcoords\":[{\"type\":\"parcoords\",\"line\":{\"colorbar\":{\"outlinewidth\":0,\"ticks\":\"\"}}}],\"scatterpolargl\":[{\"type\":\"scatterpolargl\",\"marker\":{\"colorbar\":{\"outlinewidth\":0,\"ticks\":\"\"}}}],\"bar\":[{\"error_x\":{\"color\":\"#2a3f5f\"},\"error_y\":{\"color\":\"#2a3f5f\"},\"marker\":{\"line\":{\"color\":\"#E5ECF6\",\"width\":0.5},\"pattern\":{\"fillmode\":\"overlay\",\"size\":10,\"solidity\":0.2}},\"type\":\"bar\"}],\"scattergeo\":[{\"type\":\"scattergeo\",\"marker\":{\"colorbar\":{\"outlinewidth\":0,\"ticks\":\"\"}}}],\"scatterpolar\":[{\"type\":\"scatterpolar\",\"marker\":{\"colorbar\":{\"outlinewidth\":0,\"ticks\":\"\"}}}],\"histogram\":[{\"marker\":{\"pattern\":{\"fillmode\":\"overlay\",\"size\":10,\"solidity\":0.2}},\"type\":\"histogram\"}],\"scattergl\":[{\"type\":\"scattergl\",\"marker\":{\"colorbar\":{\"outlinewidth\":0,\"ticks\":\"\"}}}],\"scatter3d\":[{\"type\":\"scatter3d\",\"line\":{\"colorbar\":{\"outlinewidth\":0,\"ticks\":\"\"}},\"marker\":{\"colorbar\":{\"outlinewidth\":0,\"ticks\":\"\"}}}],\"scattermapbox\":[{\"type\":\"scattermapbox\",\"marker\":{\"colorbar\":{\"outlinewidth\":0,\"ticks\":\"\"}}}],\"scatterternary\":[{\"type\":\"scatterternary\",\"marker\":{\"colorbar\":{\"outlinewidth\":0,\"ticks\":\"\"}}}],\"scattercarpet\":[{\"type\":\"scattercarpet\",\"marker\":{\"colorbar\":{\"outlinewidth\":0,\"ticks\":\"\"}}}],\"carpet\":[{\"aaxis\":{\"endlinecolor\":\"#2a3f5f\",\"gridcolor\":\"white\",\"linecolor\":\"white\",\"minorgridcolor\":\"white\",\"startlinecolor\":\"#2a3f5f\"},\"baxis\":{\"endlinecolor\":\"#2a3f5f\",\"gridcolor\":\"white\",\"linecolor\":\"white\",\"minorgridcolor\":\"white\",\"startlinecolor\":\"#2a3f5f\"},\"type\":\"carpet\"}],\"table\":[{\"cells\":{\"fill\":{\"color\":\"#EBF0F8\"},\"line\":{\"color\":\"white\"}},\"header\":{\"fill\":{\"color\":\"#C8D4E3\"},\"line\":{\"color\":\"white\"}},\"type\":\"table\"}],\"barpolar\":[{\"marker\":{\"line\":{\"color\":\"#E5ECF6\",\"width\":0.5},\"pattern\":{\"fillmode\":\"overlay\",\"size\":10,\"solidity\":0.2}},\"type\":\"barpolar\"}],\"pie\":[{\"automargin\":true,\"type\":\"pie\"}]},\"layout\":{\"autotypenumbers\":\"strict\",\"colorway\":[\"#636efa\",\"#EF553B\",\"#00cc96\",\"#ab63fa\",\"#FFA15A\",\"#19d3f3\",\"#FF6692\",\"#B6E880\",\"#FF97FF\",\"#FECB52\"],\"font\":{\"color\":\"#2a3f5f\"},\"hovermode\":\"closest\",\"hoverlabel\":{\"align\":\"left\"},\"paper_bgcolor\":\"white\",\"plot_bgcolor\":\"#E5ECF6\",\"polar\":{\"bgcolor\":\"#E5ECF6\",\"angularaxis\":{\"gridcolor\":\"white\",\"linecolor\":\"white\",\"ticks\":\"\"},\"radialaxis\":{\"gridcolor\":\"white\",\"linecolor\":\"white\",\"ticks\":\"\"}},\"ternary\":{\"bgcolor\":\"#E5ECF6\",\"aaxis\":{\"gridcolor\":\"white\",\"linecolor\":\"white\",\"ticks\":\"\"},\"baxis\":{\"gridcolor\":\"white\",\"linecolor\":\"white\",\"ticks\":\"\"},\"caxis\":{\"gridcolor\":\"white\",\"linecolor\":\"white\",\"ticks\":\"\"}},\"coloraxis\":{\"colorbar\":{\"outlinewidth\":0,\"ticks\":\"\"}},\"colorscale\":{\"sequential\":[[0.0,\"#0d0887\"],[0.1111111111111111,\"#46039f\"],[0.2222222222222222,\"#7201a8\"],[0.3333333333333333,\"#9c179e\"],[0.4444444444444444,\"#bd3786\"],[0.5555555555555556,\"#d8576b\"],[0.6666666666666666,\"#ed7953\"],[0.7777777777777778,\"#fb9f3a\"],[0.8888888888888888,\"#fdca26\"],[1.0,\"#f0f921\"]],\"sequentialminus\":[[0.0,\"#0d0887\"],[0.1111111111111111,\"#46039f\"],[0.2222222222222222,\"#7201a8\"],[0.3333333333333333,\"#9c179e\"],[0.4444444444444444,\"#bd3786\"],[0.5555555555555556,\"#d8576b\"],[0.6666666666666666,\"#ed7953\"],[0.7777777777777778,\"#fb9f3a\"],[0.8888888888888888,\"#fdca26\"],[1.0,\"#f0f921\"]],\"diverging\":[[0,\"#8e0152\"],[0.1,\"#c51b7d\"],[0.2,\"#de77ae\"],[0.3,\"#f1b6da\"],[0.4,\"#fde0ef\"],[0.5,\"#f7f7f7\"],[0.6,\"#e6f5d0\"],[0.7,\"#b8e186\"],[0.8,\"#7fbc41\"],[0.9,\"#4d9221\"],[1,\"#276419\"]]},\"xaxis\":{\"gridcolor\":\"white\",\"linecolor\":\"white\",\"ticks\":\"\",\"title\":{\"standoff\":15},\"zerolinecolor\":\"white\",\"automargin\":true,\"zerolinewidth\":2},\"yaxis\":{\"gridcolor\":\"white\",\"linecolor\":\"white\",\"ticks\":\"\",\"title\":{\"standoff\":15},\"zerolinecolor\":\"white\",\"automargin\":true,\"zerolinewidth\":2},\"scene\":{\"xaxis\":{\"backgroundcolor\":\"#E5ECF6\",\"gridcolor\":\"white\",\"linecolor\":\"white\",\"showbackground\":true,\"ticks\":\"\",\"zerolinecolor\":\"white\",\"gridwidth\":2},\"yaxis\":{\"backgroundcolor\":\"#E5ECF6\",\"gridcolor\":\"white\",\"linecolor\":\"white\",\"showbackground\":true,\"ticks\":\"\",\"zerolinecolor\":\"white\",\"gridwidth\":2},\"zaxis\":{\"backgroundcolor\":\"#E5ECF6\",\"gridcolor\":\"white\",\"linecolor\":\"white\",\"showbackground\":true,\"ticks\":\"\",\"zerolinecolor\":\"white\",\"gridwidth\":2}},\"shapedefaults\":{\"line\":{\"color\":\"#2a3f5f\"}},\"annotationdefaults\":{\"arrowcolor\":\"#2a3f5f\",\"arrowhead\":0,\"arrowwidth\":1},\"geo\":{\"bgcolor\":\"white\",\"landcolor\":\"#E5ECF6\",\"subunitcolor\":\"white\",\"showland\":true,\"showlakes\":true,\"lakecolor\":\"white\"},\"title\":{\"x\":0.05},\"mapbox\":{\"style\":\"light\"}}}},                        {\"responsive\": true}                    ).then(function(){\n",
       "                            \n",
       "var gd = document.getElementById('6a49f380-bcf5-47a6-86c1-d83a134c48cc');\n",
       "var x = new MutationObserver(function (mutations, observer) {{\n",
       "        var display = window.getComputedStyle(gd).display;\n",
       "        if (!display || display === 'none') {{\n",
       "            console.log([gd, 'removed!']);\n",
       "            Plotly.purge(gd);\n",
       "            observer.disconnect();\n",
       "        }}\n",
       "}});\n",
       "\n",
       "// Listen for the removal of the full notebook cells\n",
       "var notebookContainer = gd.closest('#notebook-container');\n",
       "if (notebookContainer) {{\n",
       "    x.observe(notebookContainer, {childList: true});\n",
       "}}\n",
       "\n",
       "// Listen for the clearing of the current output cell\n",
       "var outputEl = gd.closest('.output');\n",
       "if (outputEl) {{\n",
       "    x.observe(outputEl, {childList: true});\n",
       "}}\n",
       "\n",
       "                        })                };                });            </script>        </div>"
      ]
     },
     "metadata": {},
     "output_type": "display_data"
    },
    {
     "data": {
      "application/vnd.plotly.v1+json": {
       "config": {
        "plotlyServerURL": "https://plot.ly"
       },
       "data": [
        {
         "mode": "markers",
         "name": "Objective Value",
         "type": "scatter",
         "x": [
          0,
          1,
          2,
          3,
          4,
          5,
          6,
          7,
          8,
          9,
          10,
          11,
          12,
          13,
          14,
          15,
          16,
          17,
          18,
          19,
          20,
          21,
          22,
          23,
          24,
          25,
          26,
          27,
          28,
          29,
          30,
          31,
          32,
          33,
          34,
          35,
          36,
          37,
          38,
          39,
          40,
          41,
          42,
          43,
          44,
          45,
          46,
          47,
          48,
          49
         ],
         "y": [
          0.0643934105821583,
          0.06613848945972356,
          0.06215970961887474,
          0.06523104844338967,
          0.06533575317604357,
          0.06226441435152874,
          0.06425380427195304,
          0.0651961468658383,
          0.06303224905765736,
          0.06226441435152874,
          0.06407929638419652,
          0.061391874912746,
          0.061077760714784324,
          0.06125226860254085,
          0.06041463074130948,
          0.061077760714784324,
          0.06072874493927127,
          0.060763646516822534,
          0.060763646516822534,
          0.061775792265810425,
          0.06027502443110433,
          0.06065894178416864,
          0.06742984782912187,
          0.06062404020661738,
          0.0599958118106938,
          0.06034482758620685,
          0.06041463074130948,
          0.060170319698450325,
          0.06505654055563315,
          0.06404439480664526,
          0.06125226860254085,
          0.05996091023314254,
          0.06278793801479832,
          0.061112662292335584,
          0.06278793801479832,
          0.06034482758620685,
          0.06202010330866958,
          0.06027502443110433,
          0.06264833170459305,
          0.060833449671925166,
          0.06219461119642611,
          0.06149657964540001,
          0.060519335473963376,
          0.06362557587602957,
          0.06093815440457906,
          0.06153148122295127,
          0.06268323328214431,
          0.06097305598213043,
          0.062124808041323476,
          0.061077760714784324
         ]
        },
        {
         "mode": "lines",
         "name": "Best Value",
         "type": "scatter",
         "x": [
          0,
          1,
          2,
          3,
          4,
          5,
          6,
          7,
          8,
          9,
          10,
          11,
          12,
          13,
          14,
          15,
          16,
          17,
          18,
          19,
          20,
          21,
          22,
          23,
          24,
          25,
          26,
          27,
          28,
          29,
          30,
          31,
          32,
          33,
          34,
          35,
          36,
          37,
          38,
          39,
          40,
          41,
          42,
          43,
          44,
          45,
          46,
          47,
          48,
          49
         ],
         "y": [
          0.0643934105821583,
          0.0643934105821583,
          0.06215970961887474,
          0.06215970961887474,
          0.06215970961887474,
          0.06215970961887474,
          0.06215970961887474,
          0.06215970961887474,
          0.06215970961887474,
          0.06215970961887474,
          0.06215970961887474,
          0.061391874912746,
          0.061077760714784324,
          0.061077760714784324,
          0.06041463074130948,
          0.06041463074130948,
          0.06041463074130948,
          0.06041463074130948,
          0.06041463074130948,
          0.06041463074130948,
          0.06027502443110433,
          0.06027502443110433,
          0.06027502443110433,
          0.06027502443110433,
          0.0599958118106938,
          0.0599958118106938,
          0.0599958118106938,
          0.0599958118106938,
          0.0599958118106938,
          0.0599958118106938,
          0.0599958118106938,
          0.05996091023314254,
          0.05996091023314254,
          0.05996091023314254,
          0.05996091023314254,
          0.05996091023314254,
          0.05996091023314254,
          0.05996091023314254,
          0.05996091023314254,
          0.05996091023314254,
          0.05996091023314254,
          0.05996091023314254,
          0.05996091023314254,
          0.05996091023314254,
          0.05996091023314254,
          0.05996091023314254,
          0.05996091023314254,
          0.05996091023314254,
          0.05996091023314254,
          0.05996091023314254
         ]
        },
        {
         "marker": {
          "color": "#cccccc"
         },
         "mode": "markers",
         "name": "Infeasible Trial",
         "showlegend": false,
         "type": "scatter",
         "x": [],
         "y": []
        }
       ],
       "layout": {
        "template": {
         "data": {
          "bar": [
           {
            "error_x": {
             "color": "#2a3f5f"
            },
            "error_y": {
             "color": "#2a3f5f"
            },
            "marker": {
             "line": {
              "color": "#E5ECF6",
              "width": 0.5
             },
             "pattern": {
              "fillmode": "overlay",
              "size": 10,
              "solidity": 0.2
             }
            },
            "type": "bar"
           }
          ],
          "barpolar": [
           {
            "marker": {
             "line": {
              "color": "#E5ECF6",
              "width": 0.5
             },
             "pattern": {
              "fillmode": "overlay",
              "size": 10,
              "solidity": 0.2
             }
            },
            "type": "barpolar"
           }
          ],
          "carpet": [
           {
            "aaxis": {
             "endlinecolor": "#2a3f5f",
             "gridcolor": "white",
             "linecolor": "white",
             "minorgridcolor": "white",
             "startlinecolor": "#2a3f5f"
            },
            "baxis": {
             "endlinecolor": "#2a3f5f",
             "gridcolor": "white",
             "linecolor": "white",
             "minorgridcolor": "white",
             "startlinecolor": "#2a3f5f"
            },
            "type": "carpet"
           }
          ],
          "choropleth": [
           {
            "colorbar": {
             "outlinewidth": 0,
             "ticks": ""
            },
            "type": "choropleth"
           }
          ],
          "contour": [
           {
            "colorbar": {
             "outlinewidth": 0,
             "ticks": ""
            },
            "colorscale": [
             [
              0,
              "#0d0887"
             ],
             [
              0.1111111111111111,
              "#46039f"
             ],
             [
              0.2222222222222222,
              "#7201a8"
             ],
             [
              0.3333333333333333,
              "#9c179e"
             ],
             [
              0.4444444444444444,
              "#bd3786"
             ],
             [
              0.5555555555555556,
              "#d8576b"
             ],
             [
              0.6666666666666666,
              "#ed7953"
             ],
             [
              0.7777777777777778,
              "#fb9f3a"
             ],
             [
              0.8888888888888888,
              "#fdca26"
             ],
             [
              1,
              "#f0f921"
             ]
            ],
            "type": "contour"
           }
          ],
          "contourcarpet": [
           {
            "colorbar": {
             "outlinewidth": 0,
             "ticks": ""
            },
            "type": "contourcarpet"
           }
          ],
          "heatmap": [
           {
            "colorbar": {
             "outlinewidth": 0,
             "ticks": ""
            },
            "colorscale": [
             [
              0,
              "#0d0887"
             ],
             [
              0.1111111111111111,
              "#46039f"
             ],
             [
              0.2222222222222222,
              "#7201a8"
             ],
             [
              0.3333333333333333,
              "#9c179e"
             ],
             [
              0.4444444444444444,
              "#bd3786"
             ],
             [
              0.5555555555555556,
              "#d8576b"
             ],
             [
              0.6666666666666666,
              "#ed7953"
             ],
             [
              0.7777777777777778,
              "#fb9f3a"
             ],
             [
              0.8888888888888888,
              "#fdca26"
             ],
             [
              1,
              "#f0f921"
             ]
            ],
            "type": "heatmap"
           }
          ],
          "heatmapgl": [
           {
            "colorbar": {
             "outlinewidth": 0,
             "ticks": ""
            },
            "colorscale": [
             [
              0,
              "#0d0887"
             ],
             [
              0.1111111111111111,
              "#46039f"
             ],
             [
              0.2222222222222222,
              "#7201a8"
             ],
             [
              0.3333333333333333,
              "#9c179e"
             ],
             [
              0.4444444444444444,
              "#bd3786"
             ],
             [
              0.5555555555555556,
              "#d8576b"
             ],
             [
              0.6666666666666666,
              "#ed7953"
             ],
             [
              0.7777777777777778,
              "#fb9f3a"
             ],
             [
              0.8888888888888888,
              "#fdca26"
             ],
             [
              1,
              "#f0f921"
             ]
            ],
            "type": "heatmapgl"
           }
          ],
          "histogram": [
           {
            "marker": {
             "pattern": {
              "fillmode": "overlay",
              "size": 10,
              "solidity": 0.2
             }
            },
            "type": "histogram"
           }
          ],
          "histogram2d": [
           {
            "colorbar": {
             "outlinewidth": 0,
             "ticks": ""
            },
            "colorscale": [
             [
              0,
              "#0d0887"
             ],
             [
              0.1111111111111111,
              "#46039f"
             ],
             [
              0.2222222222222222,
              "#7201a8"
             ],
             [
              0.3333333333333333,
              "#9c179e"
             ],
             [
              0.4444444444444444,
              "#bd3786"
             ],
             [
              0.5555555555555556,
              "#d8576b"
             ],
             [
              0.6666666666666666,
              "#ed7953"
             ],
             [
              0.7777777777777778,
              "#fb9f3a"
             ],
             [
              0.8888888888888888,
              "#fdca26"
             ],
             [
              1,
              "#f0f921"
             ]
            ],
            "type": "histogram2d"
           }
          ],
          "histogram2dcontour": [
           {
            "colorbar": {
             "outlinewidth": 0,
             "ticks": ""
            },
            "colorscale": [
             [
              0,
              "#0d0887"
             ],
             [
              0.1111111111111111,
              "#46039f"
             ],
             [
              0.2222222222222222,
              "#7201a8"
             ],
             [
              0.3333333333333333,
              "#9c179e"
             ],
             [
              0.4444444444444444,
              "#bd3786"
             ],
             [
              0.5555555555555556,
              "#d8576b"
             ],
             [
              0.6666666666666666,
              "#ed7953"
             ],
             [
              0.7777777777777778,
              "#fb9f3a"
             ],
             [
              0.8888888888888888,
              "#fdca26"
             ],
             [
              1,
              "#f0f921"
             ]
            ],
            "type": "histogram2dcontour"
           }
          ],
          "mesh3d": [
           {
            "colorbar": {
             "outlinewidth": 0,
             "ticks": ""
            },
            "type": "mesh3d"
           }
          ],
          "parcoords": [
           {
            "line": {
             "colorbar": {
              "outlinewidth": 0,
              "ticks": ""
             }
            },
            "type": "parcoords"
           }
          ],
          "pie": [
           {
            "automargin": true,
            "type": "pie"
           }
          ],
          "scatter": [
           {
            "fillpattern": {
             "fillmode": "overlay",
             "size": 10,
             "solidity": 0.2
            },
            "type": "scatter"
           }
          ],
          "scatter3d": [
           {
            "line": {
             "colorbar": {
              "outlinewidth": 0,
              "ticks": ""
             }
            },
            "marker": {
             "colorbar": {
              "outlinewidth": 0,
              "ticks": ""
             }
            },
            "type": "scatter3d"
           }
          ],
          "scattercarpet": [
           {
            "marker": {
             "colorbar": {
              "outlinewidth": 0,
              "ticks": ""
             }
            },
            "type": "scattercarpet"
           }
          ],
          "scattergeo": [
           {
            "marker": {
             "colorbar": {
              "outlinewidth": 0,
              "ticks": ""
             }
            },
            "type": "scattergeo"
           }
          ],
          "scattergl": [
           {
            "marker": {
             "colorbar": {
              "outlinewidth": 0,
              "ticks": ""
             }
            },
            "type": "scattergl"
           }
          ],
          "scattermapbox": [
           {
            "marker": {
             "colorbar": {
              "outlinewidth": 0,
              "ticks": ""
             }
            },
            "type": "scattermapbox"
           }
          ],
          "scatterpolar": [
           {
            "marker": {
             "colorbar": {
              "outlinewidth": 0,
              "ticks": ""
             }
            },
            "type": "scatterpolar"
           }
          ],
          "scatterpolargl": [
           {
            "marker": {
             "colorbar": {
              "outlinewidth": 0,
              "ticks": ""
             }
            },
            "type": "scatterpolargl"
           }
          ],
          "scatterternary": [
           {
            "marker": {
             "colorbar": {
              "outlinewidth": 0,
              "ticks": ""
             }
            },
            "type": "scatterternary"
           }
          ],
          "surface": [
           {
            "colorbar": {
             "outlinewidth": 0,
             "ticks": ""
            },
            "colorscale": [
             [
              0,
              "#0d0887"
             ],
             [
              0.1111111111111111,
              "#46039f"
             ],
             [
              0.2222222222222222,
              "#7201a8"
             ],
             [
              0.3333333333333333,
              "#9c179e"
             ],
             [
              0.4444444444444444,
              "#bd3786"
             ],
             [
              0.5555555555555556,
              "#d8576b"
             ],
             [
              0.6666666666666666,
              "#ed7953"
             ],
             [
              0.7777777777777778,
              "#fb9f3a"
             ],
             [
              0.8888888888888888,
              "#fdca26"
             ],
             [
              1,
              "#f0f921"
             ]
            ],
            "type": "surface"
           }
          ],
          "table": [
           {
            "cells": {
             "fill": {
              "color": "#EBF0F8"
             },
             "line": {
              "color": "white"
             }
            },
            "header": {
             "fill": {
              "color": "#C8D4E3"
             },
             "line": {
              "color": "white"
             }
            },
            "type": "table"
           }
          ]
         },
         "layout": {
          "annotationdefaults": {
           "arrowcolor": "#2a3f5f",
           "arrowhead": 0,
           "arrowwidth": 1
          },
          "autotypenumbers": "strict",
          "coloraxis": {
           "colorbar": {
            "outlinewidth": 0,
            "ticks": ""
           }
          },
          "colorscale": {
           "diverging": [
            [
             0,
             "#8e0152"
            ],
            [
             0.1,
             "#c51b7d"
            ],
            [
             0.2,
             "#de77ae"
            ],
            [
             0.3,
             "#f1b6da"
            ],
            [
             0.4,
             "#fde0ef"
            ],
            [
             0.5,
             "#f7f7f7"
            ],
            [
             0.6,
             "#e6f5d0"
            ],
            [
             0.7,
             "#b8e186"
            ],
            [
             0.8,
             "#7fbc41"
            ],
            [
             0.9,
             "#4d9221"
            ],
            [
             1,
             "#276419"
            ]
           ],
           "sequential": [
            [
             0,
             "#0d0887"
            ],
            [
             0.1111111111111111,
             "#46039f"
            ],
            [
             0.2222222222222222,
             "#7201a8"
            ],
            [
             0.3333333333333333,
             "#9c179e"
            ],
            [
             0.4444444444444444,
             "#bd3786"
            ],
            [
             0.5555555555555556,
             "#d8576b"
            ],
            [
             0.6666666666666666,
             "#ed7953"
            ],
            [
             0.7777777777777778,
             "#fb9f3a"
            ],
            [
             0.8888888888888888,
             "#fdca26"
            ],
            [
             1,
             "#f0f921"
            ]
           ],
           "sequentialminus": [
            [
             0,
             "#0d0887"
            ],
            [
             0.1111111111111111,
             "#46039f"
            ],
            [
             0.2222222222222222,
             "#7201a8"
            ],
            [
             0.3333333333333333,
             "#9c179e"
            ],
            [
             0.4444444444444444,
             "#bd3786"
            ],
            [
             0.5555555555555556,
             "#d8576b"
            ],
            [
             0.6666666666666666,
             "#ed7953"
            ],
            [
             0.7777777777777778,
             "#fb9f3a"
            ],
            [
             0.8888888888888888,
             "#fdca26"
            ],
            [
             1,
             "#f0f921"
            ]
           ]
          },
          "colorway": [
           "#636efa",
           "#EF553B",
           "#00cc96",
           "#ab63fa",
           "#FFA15A",
           "#19d3f3",
           "#FF6692",
           "#B6E880",
           "#FF97FF",
           "#FECB52"
          ],
          "font": {
           "color": "#2a3f5f"
          },
          "geo": {
           "bgcolor": "white",
           "lakecolor": "white",
           "landcolor": "#E5ECF6",
           "showlakes": true,
           "showland": true,
           "subunitcolor": "white"
          },
          "hoverlabel": {
           "align": "left"
          },
          "hovermode": "closest",
          "mapbox": {
           "style": "light"
          },
          "paper_bgcolor": "white",
          "plot_bgcolor": "#E5ECF6",
          "polar": {
           "angularaxis": {
            "gridcolor": "white",
            "linecolor": "white",
            "ticks": ""
           },
           "bgcolor": "#E5ECF6",
           "radialaxis": {
            "gridcolor": "white",
            "linecolor": "white",
            "ticks": ""
           }
          },
          "scene": {
           "xaxis": {
            "backgroundcolor": "#E5ECF6",
            "gridcolor": "white",
            "gridwidth": 2,
            "linecolor": "white",
            "showbackground": true,
            "ticks": "",
            "zerolinecolor": "white"
           },
           "yaxis": {
            "backgroundcolor": "#E5ECF6",
            "gridcolor": "white",
            "gridwidth": 2,
            "linecolor": "white",
            "showbackground": true,
            "ticks": "",
            "zerolinecolor": "white"
           },
           "zaxis": {
            "backgroundcolor": "#E5ECF6",
            "gridcolor": "white",
            "gridwidth": 2,
            "linecolor": "white",
            "showbackground": true,
            "ticks": "",
            "zerolinecolor": "white"
           }
          },
          "shapedefaults": {
           "line": {
            "color": "#2a3f5f"
           }
          },
          "ternary": {
           "aaxis": {
            "gridcolor": "white",
            "linecolor": "white",
            "ticks": ""
           },
           "baxis": {
            "gridcolor": "white",
            "linecolor": "white",
            "ticks": ""
           },
           "bgcolor": "#E5ECF6",
           "caxis": {
            "gridcolor": "white",
            "linecolor": "white",
            "ticks": ""
           }
          },
          "title": {
           "x": 0.05
          },
          "xaxis": {
           "automargin": true,
           "gridcolor": "white",
           "linecolor": "white",
           "ticks": "",
           "title": {
            "standoff": 15
           },
           "zerolinecolor": "white",
           "zerolinewidth": 2
          },
          "yaxis": {
           "automargin": true,
           "gridcolor": "white",
           "linecolor": "white",
           "ticks": "",
           "title": {
            "standoff": 15
           },
           "zerolinecolor": "white",
           "zerolinewidth": 2
          }
         }
        },
        "title": {
         "text": "Optimization History Plot"
        },
        "xaxis": {
         "title": {
          "text": "Trial"
         }
        },
        "yaxis": {
         "title": {
          "text": "Objective Value"
         }
        }
       }
      },
      "text/html": [
       "<div>                            <div id=\"30ef05e3-3862-4742-b8e2-8776bb46d08c\" class=\"plotly-graph-div\" style=\"height:525px; width:100%;\"></div>            <script type=\"text/javascript\">                require([\"plotly\"], function(Plotly) {                    window.PLOTLYENV=window.PLOTLYENV || {};                                    if (document.getElementById(\"30ef05e3-3862-4742-b8e2-8776bb46d08c\")) {                    Plotly.newPlot(                        \"30ef05e3-3862-4742-b8e2-8776bb46d08c\",                        [{\"mode\":\"markers\",\"name\":\"Objective Value\",\"x\":[0,1,2,3,4,5,6,7,8,9,10,11,12,13,14,15,16,17,18,19,20,21,22,23,24,25,26,27,28,29,30,31,32,33,34,35,36,37,38,39,40,41,42,43,44,45,46,47,48,49],\"y\":[0.0643934105821583,0.06613848945972356,0.06215970961887474,0.06523104844338967,0.06533575317604357,0.06226441435152874,0.06425380427195304,0.0651961468658383,0.06303224905765736,0.06226441435152874,0.06407929638419652,0.061391874912746,0.061077760714784324,0.06125226860254085,0.06041463074130948,0.061077760714784324,0.06072874493927127,0.060763646516822534,0.060763646516822534,0.061775792265810425,0.06027502443110433,0.06065894178416864,0.06742984782912187,0.06062404020661738,0.0599958118106938,0.06034482758620685,0.06041463074130948,0.060170319698450325,0.06505654055563315,0.06404439480664526,0.06125226860254085,0.05996091023314254,0.06278793801479832,0.061112662292335584,0.06278793801479832,0.06034482758620685,0.06202010330866958,0.06027502443110433,0.06264833170459305,0.060833449671925166,0.06219461119642611,0.06149657964540001,0.060519335473963376,0.06362557587602957,0.06093815440457906,0.06153148122295127,0.06268323328214431,0.06097305598213043,0.062124808041323476,0.061077760714784324],\"type\":\"scatter\"},{\"mode\":\"lines\",\"name\":\"Best Value\",\"x\":[0,1,2,3,4,5,6,7,8,9,10,11,12,13,14,15,16,17,18,19,20,21,22,23,24,25,26,27,28,29,30,31,32,33,34,35,36,37,38,39,40,41,42,43,44,45,46,47,48,49],\"y\":[0.0643934105821583,0.0643934105821583,0.06215970961887474,0.06215970961887474,0.06215970961887474,0.06215970961887474,0.06215970961887474,0.06215970961887474,0.06215970961887474,0.06215970961887474,0.06215970961887474,0.061391874912746,0.061077760714784324,0.061077760714784324,0.06041463074130948,0.06041463074130948,0.06041463074130948,0.06041463074130948,0.06041463074130948,0.06041463074130948,0.06027502443110433,0.06027502443110433,0.06027502443110433,0.06027502443110433,0.0599958118106938,0.0599958118106938,0.0599958118106938,0.0599958118106938,0.0599958118106938,0.0599958118106938,0.0599958118106938,0.05996091023314254,0.05996091023314254,0.05996091023314254,0.05996091023314254,0.05996091023314254,0.05996091023314254,0.05996091023314254,0.05996091023314254,0.05996091023314254,0.05996091023314254,0.05996091023314254,0.05996091023314254,0.05996091023314254,0.05996091023314254,0.05996091023314254,0.05996091023314254,0.05996091023314254,0.05996091023314254,0.05996091023314254],\"type\":\"scatter\"},{\"marker\":{\"color\":\"#cccccc\"},\"mode\":\"markers\",\"name\":\"Infeasible Trial\",\"showlegend\":false,\"x\":[],\"y\":[],\"type\":\"scatter\"}],                        {\"title\":{\"text\":\"Optimization History Plot\"},\"xaxis\":{\"title\":{\"text\":\"Trial\"}},\"yaxis\":{\"title\":{\"text\":\"Objective Value\"}},\"template\":{\"data\":{\"histogram2dcontour\":[{\"type\":\"histogram2dcontour\",\"colorbar\":{\"outlinewidth\":0,\"ticks\":\"\"},\"colorscale\":[[0.0,\"#0d0887\"],[0.1111111111111111,\"#46039f\"],[0.2222222222222222,\"#7201a8\"],[0.3333333333333333,\"#9c179e\"],[0.4444444444444444,\"#bd3786\"],[0.5555555555555556,\"#d8576b\"],[0.6666666666666666,\"#ed7953\"],[0.7777777777777778,\"#fb9f3a\"],[0.8888888888888888,\"#fdca26\"],[1.0,\"#f0f921\"]]}],\"choropleth\":[{\"type\":\"choropleth\",\"colorbar\":{\"outlinewidth\":0,\"ticks\":\"\"}}],\"histogram2d\":[{\"type\":\"histogram2d\",\"colorbar\":{\"outlinewidth\":0,\"ticks\":\"\"},\"colorscale\":[[0.0,\"#0d0887\"],[0.1111111111111111,\"#46039f\"],[0.2222222222222222,\"#7201a8\"],[0.3333333333333333,\"#9c179e\"],[0.4444444444444444,\"#bd3786\"],[0.5555555555555556,\"#d8576b\"],[0.6666666666666666,\"#ed7953\"],[0.7777777777777778,\"#fb9f3a\"],[0.8888888888888888,\"#fdca26\"],[1.0,\"#f0f921\"]]}],\"heatmap\":[{\"type\":\"heatmap\",\"colorbar\":{\"outlinewidth\":0,\"ticks\":\"\"},\"colorscale\":[[0.0,\"#0d0887\"],[0.1111111111111111,\"#46039f\"],[0.2222222222222222,\"#7201a8\"],[0.3333333333333333,\"#9c179e\"],[0.4444444444444444,\"#bd3786\"],[0.5555555555555556,\"#d8576b\"],[0.6666666666666666,\"#ed7953\"],[0.7777777777777778,\"#fb9f3a\"],[0.8888888888888888,\"#fdca26\"],[1.0,\"#f0f921\"]]}],\"heatmapgl\":[{\"type\":\"heatmapgl\",\"colorbar\":{\"outlinewidth\":0,\"ticks\":\"\"},\"colorscale\":[[0.0,\"#0d0887\"],[0.1111111111111111,\"#46039f\"],[0.2222222222222222,\"#7201a8\"],[0.3333333333333333,\"#9c179e\"],[0.4444444444444444,\"#bd3786\"],[0.5555555555555556,\"#d8576b\"],[0.6666666666666666,\"#ed7953\"],[0.7777777777777778,\"#fb9f3a\"],[0.8888888888888888,\"#fdca26\"],[1.0,\"#f0f921\"]]}],\"contourcarpet\":[{\"type\":\"contourcarpet\",\"colorbar\":{\"outlinewidth\":0,\"ticks\":\"\"}}],\"contour\":[{\"type\":\"contour\",\"colorbar\":{\"outlinewidth\":0,\"ticks\":\"\"},\"colorscale\":[[0.0,\"#0d0887\"],[0.1111111111111111,\"#46039f\"],[0.2222222222222222,\"#7201a8\"],[0.3333333333333333,\"#9c179e\"],[0.4444444444444444,\"#bd3786\"],[0.5555555555555556,\"#d8576b\"],[0.6666666666666666,\"#ed7953\"],[0.7777777777777778,\"#fb9f3a\"],[0.8888888888888888,\"#fdca26\"],[1.0,\"#f0f921\"]]}],\"surface\":[{\"type\":\"surface\",\"colorbar\":{\"outlinewidth\":0,\"ticks\":\"\"},\"colorscale\":[[0.0,\"#0d0887\"],[0.1111111111111111,\"#46039f\"],[0.2222222222222222,\"#7201a8\"],[0.3333333333333333,\"#9c179e\"],[0.4444444444444444,\"#bd3786\"],[0.5555555555555556,\"#d8576b\"],[0.6666666666666666,\"#ed7953\"],[0.7777777777777778,\"#fb9f3a\"],[0.8888888888888888,\"#fdca26\"],[1.0,\"#f0f921\"]]}],\"mesh3d\":[{\"type\":\"mesh3d\",\"colorbar\":{\"outlinewidth\":0,\"ticks\":\"\"}}],\"scatter\":[{\"fillpattern\":{\"fillmode\":\"overlay\",\"size\":10,\"solidity\":0.2},\"type\":\"scatter\"}],\"parcoords\":[{\"type\":\"parcoords\",\"line\":{\"colorbar\":{\"outlinewidth\":0,\"ticks\":\"\"}}}],\"scatterpolargl\":[{\"type\":\"scatterpolargl\",\"marker\":{\"colorbar\":{\"outlinewidth\":0,\"ticks\":\"\"}}}],\"bar\":[{\"error_x\":{\"color\":\"#2a3f5f\"},\"error_y\":{\"color\":\"#2a3f5f\"},\"marker\":{\"line\":{\"color\":\"#E5ECF6\",\"width\":0.5},\"pattern\":{\"fillmode\":\"overlay\",\"size\":10,\"solidity\":0.2}},\"type\":\"bar\"}],\"scattergeo\":[{\"type\":\"scattergeo\",\"marker\":{\"colorbar\":{\"outlinewidth\":0,\"ticks\":\"\"}}}],\"scatterpolar\":[{\"type\":\"scatterpolar\",\"marker\":{\"colorbar\":{\"outlinewidth\":0,\"ticks\":\"\"}}}],\"histogram\":[{\"marker\":{\"pattern\":{\"fillmode\":\"overlay\",\"size\":10,\"solidity\":0.2}},\"type\":\"histogram\"}],\"scattergl\":[{\"type\":\"scattergl\",\"marker\":{\"colorbar\":{\"outlinewidth\":0,\"ticks\":\"\"}}}],\"scatter3d\":[{\"type\":\"scatter3d\",\"line\":{\"colorbar\":{\"outlinewidth\":0,\"ticks\":\"\"}},\"marker\":{\"colorbar\":{\"outlinewidth\":0,\"ticks\":\"\"}}}],\"scattermapbox\":[{\"type\":\"scattermapbox\",\"marker\":{\"colorbar\":{\"outlinewidth\":0,\"ticks\":\"\"}}}],\"scatterternary\":[{\"type\":\"scatterternary\",\"marker\":{\"colorbar\":{\"outlinewidth\":0,\"ticks\":\"\"}}}],\"scattercarpet\":[{\"type\":\"scattercarpet\",\"marker\":{\"colorbar\":{\"outlinewidth\":0,\"ticks\":\"\"}}}],\"carpet\":[{\"aaxis\":{\"endlinecolor\":\"#2a3f5f\",\"gridcolor\":\"white\",\"linecolor\":\"white\",\"minorgridcolor\":\"white\",\"startlinecolor\":\"#2a3f5f\"},\"baxis\":{\"endlinecolor\":\"#2a3f5f\",\"gridcolor\":\"white\",\"linecolor\":\"white\",\"minorgridcolor\":\"white\",\"startlinecolor\":\"#2a3f5f\"},\"type\":\"carpet\"}],\"table\":[{\"cells\":{\"fill\":{\"color\":\"#EBF0F8\"},\"line\":{\"color\":\"white\"}},\"header\":{\"fill\":{\"color\":\"#C8D4E3\"},\"line\":{\"color\":\"white\"}},\"type\":\"table\"}],\"barpolar\":[{\"marker\":{\"line\":{\"color\":\"#E5ECF6\",\"width\":0.5},\"pattern\":{\"fillmode\":\"overlay\",\"size\":10,\"solidity\":0.2}},\"type\":\"barpolar\"}],\"pie\":[{\"automargin\":true,\"type\":\"pie\"}]},\"layout\":{\"autotypenumbers\":\"strict\",\"colorway\":[\"#636efa\",\"#EF553B\",\"#00cc96\",\"#ab63fa\",\"#FFA15A\",\"#19d3f3\",\"#FF6692\",\"#B6E880\",\"#FF97FF\",\"#FECB52\"],\"font\":{\"color\":\"#2a3f5f\"},\"hovermode\":\"closest\",\"hoverlabel\":{\"align\":\"left\"},\"paper_bgcolor\":\"white\",\"plot_bgcolor\":\"#E5ECF6\",\"polar\":{\"bgcolor\":\"#E5ECF6\",\"angularaxis\":{\"gridcolor\":\"white\",\"linecolor\":\"white\",\"ticks\":\"\"},\"radialaxis\":{\"gridcolor\":\"white\",\"linecolor\":\"white\",\"ticks\":\"\"}},\"ternary\":{\"bgcolor\":\"#E5ECF6\",\"aaxis\":{\"gridcolor\":\"white\",\"linecolor\":\"white\",\"ticks\":\"\"},\"baxis\":{\"gridcolor\":\"white\",\"linecolor\":\"white\",\"ticks\":\"\"},\"caxis\":{\"gridcolor\":\"white\",\"linecolor\":\"white\",\"ticks\":\"\"}},\"coloraxis\":{\"colorbar\":{\"outlinewidth\":0,\"ticks\":\"\"}},\"colorscale\":{\"sequential\":[[0.0,\"#0d0887\"],[0.1111111111111111,\"#46039f\"],[0.2222222222222222,\"#7201a8\"],[0.3333333333333333,\"#9c179e\"],[0.4444444444444444,\"#bd3786\"],[0.5555555555555556,\"#d8576b\"],[0.6666666666666666,\"#ed7953\"],[0.7777777777777778,\"#fb9f3a\"],[0.8888888888888888,\"#fdca26\"],[1.0,\"#f0f921\"]],\"sequentialminus\":[[0.0,\"#0d0887\"],[0.1111111111111111,\"#46039f\"],[0.2222222222222222,\"#7201a8\"],[0.3333333333333333,\"#9c179e\"],[0.4444444444444444,\"#bd3786\"],[0.5555555555555556,\"#d8576b\"],[0.6666666666666666,\"#ed7953\"],[0.7777777777777778,\"#fb9f3a\"],[0.8888888888888888,\"#fdca26\"],[1.0,\"#f0f921\"]],\"diverging\":[[0,\"#8e0152\"],[0.1,\"#c51b7d\"],[0.2,\"#de77ae\"],[0.3,\"#f1b6da\"],[0.4,\"#fde0ef\"],[0.5,\"#f7f7f7\"],[0.6,\"#e6f5d0\"],[0.7,\"#b8e186\"],[0.8,\"#7fbc41\"],[0.9,\"#4d9221\"],[1,\"#276419\"]]},\"xaxis\":{\"gridcolor\":\"white\",\"linecolor\":\"white\",\"ticks\":\"\",\"title\":{\"standoff\":15},\"zerolinecolor\":\"white\",\"automargin\":true,\"zerolinewidth\":2},\"yaxis\":{\"gridcolor\":\"white\",\"linecolor\":\"white\",\"ticks\":\"\",\"title\":{\"standoff\":15},\"zerolinecolor\":\"white\",\"automargin\":true,\"zerolinewidth\":2},\"scene\":{\"xaxis\":{\"backgroundcolor\":\"#E5ECF6\",\"gridcolor\":\"white\",\"linecolor\":\"white\",\"showbackground\":true,\"ticks\":\"\",\"zerolinecolor\":\"white\",\"gridwidth\":2},\"yaxis\":{\"backgroundcolor\":\"#E5ECF6\",\"gridcolor\":\"white\",\"linecolor\":\"white\",\"showbackground\":true,\"ticks\":\"\",\"zerolinecolor\":\"white\",\"gridwidth\":2},\"zaxis\":{\"backgroundcolor\":\"#E5ECF6\",\"gridcolor\":\"white\",\"linecolor\":\"white\",\"showbackground\":true,\"ticks\":\"\",\"zerolinecolor\":\"white\",\"gridwidth\":2}},\"shapedefaults\":{\"line\":{\"color\":\"#2a3f5f\"}},\"annotationdefaults\":{\"arrowcolor\":\"#2a3f5f\",\"arrowhead\":0,\"arrowwidth\":1},\"geo\":{\"bgcolor\":\"white\",\"landcolor\":\"#E5ECF6\",\"subunitcolor\":\"white\",\"showland\":true,\"showlakes\":true,\"lakecolor\":\"white\"},\"title\":{\"x\":0.05},\"mapbox\":{\"style\":\"light\"}}}},                        {\"responsive\": true}                    ).then(function(){\n",
       "                            \n",
       "var gd = document.getElementById('30ef05e3-3862-4742-b8e2-8776bb46d08c');\n",
       "var x = new MutationObserver(function (mutations, observer) {{\n",
       "        var display = window.getComputedStyle(gd).display;\n",
       "        if (!display || display === 'none') {{\n",
       "            console.log([gd, 'removed!']);\n",
       "            Plotly.purge(gd);\n",
       "            observer.disconnect();\n",
       "        }}\n",
       "}});\n",
       "\n",
       "// Listen for the removal of the full notebook cells\n",
       "var notebookContainer = gd.closest('#notebook-container');\n",
       "if (notebookContainer) {{\n",
       "    x.observe(notebookContainer, {childList: true});\n",
       "}}\n",
       "\n",
       "// Listen for the clearing of the current output cell\n",
       "var outputEl = gd.closest('.output');\n",
       "if (outputEl) {{\n",
       "    x.observe(outputEl, {childList: true});\n",
       "}}\n",
       "\n",
       "                        })                };                });            </script>        </div>"
      ]
     },
     "metadata": {},
     "output_type": "display_data"
    }
   ],
   "source": [
    "import os\n",
    "import pandas as pd\n",
    "import xgboost as xgb\n",
    "import optuna\n",
    "from optuna.visualization import plot_param_importances, plot_optimization_history\n",
    "from sklearn.metrics import accuracy_score\n",
    "from sklearn.model_selection import train_test_split\n",
    "\n",
    "# Split the data\n",
    "X_train, X_valid, y_train, y_valid = train_test_split(X, y, test_size=0.2, random_state=42)\n",
    "\n",
    "# Define the objective function for Optuna\n",
    "def objective(trial):\n",
    "    params = {\n",
    "        'max_depth': trial.suggest_int('max_depth', 3, 10),\n",
    "        'learning_rate': trial.suggest_float('learning_rate', 0.01, 0.3),\n",
    "        'n_estimators': trial.suggest_int('n_estimators', 100, 500),\n",
    "        'subsample': trial.suggest_float('subsample', 0.6, 1.0),\n",
    "        'colsample_bytree': trial.suggest_float('colsample_bytree', 0.6, 1.0),\n",
    "        'gamma': trial.suggest_float('gamma', 0, 5),\n",
    "        'min_child_weight': trial.suggest_int('min_child_weight', 1, 10),\n",
    "        'reg_alpha': trial.suggest_float('reg_alpha', 0, 1),\n",
    "        'reg_lambda': trial.suggest_float('reg_lambda', 0, 1),\n",
    "        'eval_metric': 'logloss'  # Internal metric for XGBoost\n",
    "    }\n",
    "\n",
    "    # Initialize and train the model\n",
    "    model = xgb.XGBClassifier(**params, enable_categorical=True, random_state=42)\n",
    "    model.fit(X_train, y_train)\n",
    "    \n",
    "    # Predictions and accuracy calculation\n",
    "    y_pred = model.predict(X_valid)\n",
    "    accuracy = accuracy_score(y_valid, y_pred)\n",
    "    \n",
    "    # Return 1 - accuracy to minimize in Optuna\n",
    "    return 1 - accuracy\n",
    "\n",
    "# Create and run the Optuna study\n",
    "study = optuna.create_study(direction='minimize')\n",
    "study.optimize(objective, n_trials=50)\n",
    "\n",
    "# Display the best parameters and score\n",
    "print(\"Best parameters:\", study.best_params)\n",
    "print(\"Best accuracy:\", 1 - study.best_value)\n",
    "\n",
    "# Retrain the best model on the entire dataset\n",
    "best_params = study.best_params\n",
    "best_model = xgb.XGBClassifier(\n",
    "    **best_params,\n",
    "    enable_categorical=True,\n",
    "    random_state=42\n",
    ")\n",
    "\n",
    "best_model.fit(X, y)\n",
    "\n",
    "# Predictions for test data\n",
    "df_test_features = df_test.drop('id', axis=1)\n",
    "y_pred_test = best_model.predict(df_test_features)\n",
    "\n",
    "# Save predictions for Kaggle if not in Kaggle environment\n",
    "if not os.getenv('KAGGLE_KERNEL_RUN_TYPE'):\n",
    "    output = pd.DataFrame({'id': df_test['id'], 'Depression': y_pred_test})\n",
    "    output.to_csv('kaggle/working/submission_optuna.csv', index=False)\n",
    "\n",
    "# Visualizations\n",
    "plot_param_importances(study).show()\n",
    "plot_optimization_history(study).show()\n"
   ]
  }
 ],
 "metadata": {
  "kaggle": {
   "accelerator": "none",
   "dataSources": [
    {
     "databundleVersionId": 10008389,
     "sourceId": 84895,
     "sourceType": "competition"
    },
    {
     "datasetId": 5868381,
     "sourceId": 9616093,
     "sourceType": "datasetVersion"
    }
   ],
   "dockerImageVersionId": 30786,
   "isGpuEnabled": false,
   "isInternetEnabled": true,
   "language": "python",
   "sourceType": "notebook"
  },
  "kernelspec": {
   "display_name": "base",
   "language": "python",
   "name": "python3"
  },
  "language_info": {
   "codemirror_mode": {
    "name": "ipython",
    "version": 3
   },
   "file_extension": ".py",
   "mimetype": "text/x-python",
   "name": "python",
   "nbconvert_exporter": "python",
   "pygments_lexer": "ipython3",
   "version": "3.11.5"
  }
 },
 "nbformat": 4,
 "nbformat_minor": 4
}
